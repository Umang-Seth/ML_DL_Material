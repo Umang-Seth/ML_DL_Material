{
 "cells": [
  {
   "cell_type": "code",
   "execution_count": 1,
   "id": "5b87d9e1",
   "metadata": {},
   "outputs": [],
   "source": [
    "import pandas as pd"
   ]
  },
  {
   "cell_type": "code",
   "execution_count": 3,
   "id": "722359e8",
   "metadata": {},
   "outputs": [
    {
     "data": {
      "text/html": [
       "<div>\n",
       "<style scoped>\n",
       "    .dataframe tbody tr th:only-of-type {\n",
       "        vertical-align: middle;\n",
       "    }\n",
       "\n",
       "    .dataframe tbody tr th {\n",
       "        vertical-align: top;\n",
       "    }\n",
       "\n",
       "    .dataframe thead th {\n",
       "        text-align: right;\n",
       "    }\n",
       "</style>\n",
       "<table border=\"1\" class=\"dataframe\">\n",
       "  <thead>\n",
       "    <tr style=\"text-align: right;\">\n",
       "      <th></th>\n",
       "      <th>Name</th>\n",
       "      <th>Branch</th>\n",
       "      <th>Roll No.</th>\n",
       "    </tr>\n",
       "  </thead>\n",
       "  <tbody>\n",
       "    <tr>\n",
       "      <th>0</th>\n",
       "      <td>A</td>\n",
       "      <td>ECE</td>\n",
       "      <td>1</td>\n",
       "    </tr>\n",
       "    <tr>\n",
       "      <th>1</th>\n",
       "      <td>B</td>\n",
       "      <td>CSE</td>\n",
       "      <td>2</td>\n",
       "    </tr>\n",
       "    <tr>\n",
       "      <th>2</th>\n",
       "      <td>C</td>\n",
       "      <td>IT</td>\n",
       "      <td>3</td>\n",
       "    </tr>\n",
       "  </tbody>\n",
       "</table>\n",
       "</div>"
      ],
      "text/plain": [
       "  Name Branch Roll No.\n",
       "0    A    ECE        1\n",
       "1    B    CSE        2\n",
       "2    C     IT        3"
      ]
     },
     "execution_count": 3,
     "metadata": {},
     "output_type": "execute_result"
    }
   ],
   "source": [
    "d = {'Name':['A','B',\"C\"],\n",
    "    'Branch':['ECE','CSE','IT'],\n",
    "    'Roll No.':['1','2','3']}\n",
    "\n",
    "df = pd.DataFrame(d)\n",
    "df"
   ]
  },
  {
   "cell_type": "code",
   "execution_count": 16,
   "id": "a4a936c4",
   "metadata": {},
   "outputs": [
    {
     "data": {
      "text/plain": [
       "0    A\n",
       "1    B\n",
       "2    C\n",
       "Name: Name, dtype: object"
      ]
     },
     "execution_count": 16,
     "metadata": {},
     "output_type": "execute_result"
    }
   ],
   "source": [
    "df['Name']"
   ]
  },
  {
   "cell_type": "code",
   "execution_count": 17,
   "id": "95cae55d",
   "metadata": {},
   "outputs": [
    {
     "data": {
      "text/html": [
       "<div>\n",
       "<style scoped>\n",
       "    .dataframe tbody tr th:only-of-type {\n",
       "        vertical-align: middle;\n",
       "    }\n",
       "\n",
       "    .dataframe tbody tr th {\n",
       "        vertical-align: top;\n",
       "    }\n",
       "\n",
       "    .dataframe thead th {\n",
       "        text-align: right;\n",
       "    }\n",
       "</style>\n",
       "<table border=\"1\" class=\"dataframe\">\n",
       "  <thead>\n",
       "    <tr style=\"text-align: right;\">\n",
       "      <th></th>\n",
       "      <th>Name</th>\n",
       "      <th>Branch</th>\n",
       "      <th>Roll No.</th>\n",
       "    </tr>\n",
       "  </thead>\n",
       "  <tbody>\n",
       "    <tr>\n",
       "      <th>0</th>\n",
       "      <td>A</td>\n",
       "      <td>ECE</td>\n",
       "      <td>1</td>\n",
       "    </tr>\n",
       "  </tbody>\n",
       "</table>\n",
       "</div>"
      ],
      "text/plain": [
       "  Name Branch Roll No.\n",
       "0    A    ECE        1"
      ]
     },
     "execution_count": 17,
     "metadata": {},
     "output_type": "execute_result"
    }
   ],
   "source": [
    "df[0:1]"
   ]
  },
  {
   "cell_type": "code",
   "execution_count": 19,
   "id": "62351522",
   "metadata": {},
   "outputs": [
    {
     "data": {
      "text/plain": [
       "0    ECE\n",
       "Name: Branch, dtype: object"
      ]
     },
     "execution_count": 19,
     "metadata": {},
     "output_type": "execute_result"
    }
   ],
   "source": [
    "df['Branch'][0:1]"
   ]
  },
  {
   "cell_type": "code",
   "execution_count": 22,
   "id": "28cdb322",
   "metadata": {},
   "outputs": [
    {
     "data": {
      "text/html": [
       "<div>\n",
       "<style scoped>\n",
       "    .dataframe tbody tr th:only-of-type {\n",
       "        vertical-align: middle;\n",
       "    }\n",
       "\n",
       "    .dataframe tbody tr th {\n",
       "        vertical-align: top;\n",
       "    }\n",
       "\n",
       "    .dataframe thead th {\n",
       "        text-align: right;\n",
       "    }\n",
       "</style>\n",
       "<table border=\"1\" class=\"dataframe\">\n",
       "  <thead>\n",
       "    <tr style=\"text-align: right;\">\n",
       "      <th></th>\n",
       "      <th>Name</th>\n",
       "      <th>Branch</th>\n",
       "      <th>Roll No.</th>\n",
       "    </tr>\n",
       "  </thead>\n",
       "  <tbody>\n",
       "    <tr>\n",
       "      <th>0</th>\n",
       "      <td>A</td>\n",
       "      <td>ECE</td>\n",
       "      <td>1</td>\n",
       "    </tr>\n",
       "  </tbody>\n",
       "</table>\n",
       "</div>"
      ],
      "text/plain": [
       "  Name Branch Roll No.\n",
       "0    A    ECE        1"
      ]
     },
     "execution_count": 22,
     "metadata": {},
     "output_type": "execute_result"
    }
   ],
   "source": [
    "df.head(1)"
   ]
  },
  {
   "cell_type": "code",
   "execution_count": 26,
   "id": "331ec898",
   "metadata": {},
   "outputs": [
    {
     "name": "stdout",
     "output_type": "stream",
     "text": [
      "5\n",
      "6\n",
      "11\n",
      "30\n",
      "-1\n",
      "0.8333333333333334\n",
      "5\n"
     ]
    }
   ],
   "source": [
    "def sum(a,b):\n",
    "    c=a+b\n",
    "    return c\n",
    "\n",
    "def mul(a,b):\n",
    "    d=a*b\n",
    "    return d\n",
    "\n",
    "def sub(a,b):\n",
    "    e=a-b\n",
    "    return e\n",
    "\n",
    "def div(a,b):\n",
    "    f=a/b\n",
    "    return f\n",
    "\n",
    "def mod(a,b):\n",
    "    g=a%b\n",
    "    return g\n",
    "\n",
    "a=int(input())\n",
    "b=int(input())\n",
    "\n",
    "print(sum (a,b))\n",
    "print(mul(a,b))\n",
    "print(sub(a,b))\n",
    "print(div(a,b))\n",
    "print(mod(a,b))\n",
    "\n"
   ]
  },
  {
   "cell_type": "code",
   "execution_count": 35,
   "id": "3d987aed",
   "metadata": {},
   "outputs": [
    {
     "name": "stdout",
     "output_type": "stream",
     "text": [
      "5\n",
      "5\n",
      "10\n",
      "15\n",
      "20\n",
      "25\n",
      "30\n",
      "35\n",
      "40\n",
      "45\n",
      "50\n"
     ]
    }
   ],
   "source": [
    "def table(a):\n",
    "    for i in range(1,11):\n",
    "        print(a*i)\n",
    "    return\n",
    "    \n",
    "a=int(input())\n",
    "table(a)"
   ]
  },
  {
   "cell_type": "code",
   "execution_count": 44,
   "id": "7c0ebee2",
   "metadata": {},
   "outputs": [
    {
     "name": "stdout",
     "output_type": "stream",
     "text": [
      "5\n",
      "78.53981633974483\n",
      "31.41592653589793\n"
     ]
    }
   ],
   "source": [
    "import math\n",
    "\n",
    "def area(r):\n",
    "    a=math.pi*r*r\n",
    "    return a\n",
    "def cir(r):\n",
    "    b=2*math.pi*r\n",
    "    return b\n",
    "    \n",
    "r=int(input())\n",
    "print(area(r))\n",
    "print(cir(r))\n"
   ]
  },
  {
   "cell_type": "code",
   "execution_count": 51,
   "id": "8f7ac6c8",
   "metadata": {},
   "outputs": [
    {
     "name": "stdout",
     "output_type": "stream",
     "text": [
      "10\n",
      "0\n",
      "1\n",
      "1\n",
      "2\n",
      "3\n",
      "5\n",
      "8\n",
      "13\n",
      "21\n",
      "34\n"
     ]
    }
   ],
   "source": [
    "n=int(input())\n",
    "a=0\n",
    "b=1\n",
    "print(a)\n",
    "print(b)\n",
    "\n",
    "for i in range(1,n-1):\n",
    "    c=a+b\n",
    "    a=b\n",
    "    b=c\n",
    "    print(c)"
   ]
  },
  {
   "cell_type": "code",
   "execution_count": 3,
   "id": "4ed936a2",
   "metadata": {},
   "outputs": [
    {
     "name": "stdout",
     "output_type": "stream",
     "text": [
      "Rock = 1, Paper = 2, Siccors = 3 : 1\n",
      "Computer 1\n",
      "Draw\n",
      "Rock = 1, Paper = 2, Siccors = 3 : 1\n",
      "Computer 2\n",
      "Rock = 1, Paper = 2, Siccors = 3 : 1\n",
      "Computer 1\n",
      "Draw\n",
      "Rock = 1, Paper = 2, Siccors = 3 : 1\n",
      "Computer 1\n",
      "Draw\n",
      "Rock = 1, Paper = 2, Siccors = 3 : 1\n",
      "Computer 1\n",
      "Draw\n",
      "Computer Score: 1\n",
      "Your Score: 0\n",
      "You loss\n"
     ]
    }
   ],
   "source": [
    "import random\n",
    "scoreComp=0\n",
    "scoreYou=0\n",
    "\n",
    "for i in range(5):\n",
    "    b=random.choice([1,2,3])\n",
    "    a=int(input('Rock = 1, Paper = 2, Siccors = 3 : '))\n",
    "    print('Computer',b)\n",
    "    if a==b:\n",
    "        print('Draw')\n",
    "    elif a==1 and b==3:\n",
    "        scoreYou+=1\n",
    "    elif a==3 and b==2:\n",
    "        scoreYou+=1\n",
    "    elif a==2 and b==1:\n",
    "        scoreYou+=1\n",
    "    else:\n",
    "        scoreComp+=1\n",
    "print('Computer Score:',scoreComp)\n",
    "print('Your Score:',scoreYou)\n",
    "if scoreYou>scoreComp:\n",
    "    print('You Win')\n",
    "else:\n",
    "    print('You loss')"
   ]
  }
 ],
 "metadata": {
  "kernelspec": {
   "display_name": "Python 3",
   "language": "python",
   "name": "python3"
  },
  "language_info": {
   "codemirror_mode": {
    "name": "ipython",
    "version": 3
   },
   "file_extension": ".py",
   "mimetype": "text/x-python",
   "name": "python",
   "nbconvert_exporter": "python",
   "pygments_lexer": "ipython3",
   "version": "3.8.8"
  }
 },
 "nbformat": 4,
 "nbformat_minor": 5
}
