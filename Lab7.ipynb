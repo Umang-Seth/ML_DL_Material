{
 "cells": [
  {
   "cell_type": "code",
   "execution_count": 77,
   "id": "35488aac",
   "metadata": {},
   "outputs": [
    {
     "data": {
      "text/html": [
       "<div>\n",
       "<style scoped>\n",
       "    .dataframe tbody tr th:only-of-type {\n",
       "        vertical-align: middle;\n",
       "    }\n",
       "\n",
       "    .dataframe tbody tr th {\n",
       "        vertical-align: top;\n",
       "    }\n",
       "\n",
       "    .dataframe thead th {\n",
       "        text-align: right;\n",
       "    }\n",
       "</style>\n",
       "<table border=\"1\" class=\"dataframe\">\n",
       "  <thead>\n",
       "    <tr style=\"text-align: right;\">\n",
       "      <th></th>\n",
       "      <th>Unnamed: 0</th>\n",
       "      <th>price</th>\n",
       "      <th>lotSize</th>\n",
       "      <th>age</th>\n",
       "      <th>landValue</th>\n",
       "      <th>livingArea</th>\n",
       "      <th>pctCollege</th>\n",
       "      <th>bedrooms</th>\n",
       "      <th>fireplaces</th>\n",
       "      <th>bathrooms</th>\n",
       "      <th>rooms</th>\n",
       "      <th>heating</th>\n",
       "      <th>fuel</th>\n",
       "      <th>sewer</th>\n",
       "      <th>waterfront</th>\n",
       "      <th>newConstruction</th>\n",
       "      <th>centralAir</th>\n",
       "    </tr>\n",
       "  </thead>\n",
       "  <tbody>\n",
       "    <tr>\n",
       "      <th>0</th>\n",
       "      <td>1</td>\n",
       "      <td>132500</td>\n",
       "      <td>0.09</td>\n",
       "      <td>42</td>\n",
       "      <td>50000</td>\n",
       "      <td>906</td>\n",
       "      <td>35</td>\n",
       "      <td>2</td>\n",
       "      <td>1</td>\n",
       "      <td>1.0</td>\n",
       "      <td>5</td>\n",
       "      <td>electric</td>\n",
       "      <td>electric</td>\n",
       "      <td>septic</td>\n",
       "      <td>No</td>\n",
       "      <td>No</td>\n",
       "      <td>No</td>\n",
       "    </tr>\n",
       "    <tr>\n",
       "      <th>1</th>\n",
       "      <td>2</td>\n",
       "      <td>181115</td>\n",
       "      <td>0.92</td>\n",
       "      <td>0</td>\n",
       "      <td>22300</td>\n",
       "      <td>1953</td>\n",
       "      <td>51</td>\n",
       "      <td>3</td>\n",
       "      <td>0</td>\n",
       "      <td>2.5</td>\n",
       "      <td>6</td>\n",
       "      <td>hot water/steam</td>\n",
       "      <td>gas</td>\n",
       "      <td>septic</td>\n",
       "      <td>No</td>\n",
       "      <td>No</td>\n",
       "      <td>No</td>\n",
       "    </tr>\n",
       "    <tr>\n",
       "      <th>2</th>\n",
       "      <td>3</td>\n",
       "      <td>109000</td>\n",
       "      <td>0.19</td>\n",
       "      <td>133</td>\n",
       "      <td>7300</td>\n",
       "      <td>1944</td>\n",
       "      <td>51</td>\n",
       "      <td>4</td>\n",
       "      <td>1</td>\n",
       "      <td>1.0</td>\n",
       "      <td>8</td>\n",
       "      <td>hot water/steam</td>\n",
       "      <td>gas</td>\n",
       "      <td>public/commercial</td>\n",
       "      <td>No</td>\n",
       "      <td>No</td>\n",
       "      <td>No</td>\n",
       "    </tr>\n",
       "    <tr>\n",
       "      <th>3</th>\n",
       "      <td>4</td>\n",
       "      <td>155000</td>\n",
       "      <td>0.41</td>\n",
       "      <td>13</td>\n",
       "      <td>18700</td>\n",
       "      <td>1944</td>\n",
       "      <td>51</td>\n",
       "      <td>3</td>\n",
       "      <td>1</td>\n",
       "      <td>1.5</td>\n",
       "      <td>5</td>\n",
       "      <td>hot air</td>\n",
       "      <td>gas</td>\n",
       "      <td>septic</td>\n",
       "      <td>No</td>\n",
       "      <td>No</td>\n",
       "      <td>No</td>\n",
       "    </tr>\n",
       "    <tr>\n",
       "      <th>4</th>\n",
       "      <td>5</td>\n",
       "      <td>86060</td>\n",
       "      <td>0.11</td>\n",
       "      <td>0</td>\n",
       "      <td>15000</td>\n",
       "      <td>840</td>\n",
       "      <td>51</td>\n",
       "      <td>2</td>\n",
       "      <td>0</td>\n",
       "      <td>1.0</td>\n",
       "      <td>3</td>\n",
       "      <td>hot air</td>\n",
       "      <td>gas</td>\n",
       "      <td>public/commercial</td>\n",
       "      <td>No</td>\n",
       "      <td>Yes</td>\n",
       "      <td>Yes</td>\n",
       "    </tr>\n",
       "  </tbody>\n",
       "</table>\n",
       "</div>"
      ],
      "text/plain": [
       "   Unnamed: 0   price  lotSize  age  landValue  livingArea  pctCollege  \\\n",
       "0           1  132500     0.09   42      50000         906          35   \n",
       "1           2  181115     0.92    0      22300        1953          51   \n",
       "2           3  109000     0.19  133       7300        1944          51   \n",
       "3           4  155000     0.41   13      18700        1944          51   \n",
       "4           5   86060     0.11    0      15000         840          51   \n",
       "\n",
       "   bedrooms  fireplaces  bathrooms  rooms          heating      fuel  \\\n",
       "0         2           1        1.0      5         electric  electric   \n",
       "1         3           0        2.5      6  hot water/steam       gas   \n",
       "2         4           1        1.0      8  hot water/steam       gas   \n",
       "3         3           1        1.5      5          hot air       gas   \n",
       "4         2           0        1.0      3          hot air       gas   \n",
       "\n",
       "               sewer waterfront newConstruction centralAir  \n",
       "0             septic         No              No         No  \n",
       "1             septic         No              No         No  \n",
       "2  public/commercial         No              No         No  \n",
       "3             septic         No              No         No  \n",
       "4  public/commercial         No             Yes        Yes  "
      ]
     },
     "execution_count": 77,
     "metadata": {},
     "output_type": "execute_result"
    }
   ],
   "source": [
    "import pandas as pd\n",
    "import numpy as np\n",
    "import matplotlib.pyplot as plt\n",
    "from sklearn import linear_model\n",
    "\n",
    "dataset = pd.read_csv(\"SaratogaHouses.csv\")\n",
    "dataset.head()"
   ]
  },
  {
   "cell_type": "code",
   "execution_count": 63,
   "id": "1859b8dc",
   "metadata": {},
   "outputs": [
    {
     "name": "stdout",
     "output_type": "stream",
     "text": [
      "[132500 181115 109000 155000  86060]\n",
      "[ 906 1953 1944 1944  840]\n",
      "[50000 22300  7300 18700 15000]\n",
      "[50000 22300  7300 18700 15000]\n"
     ]
    }
   ],
   "source": [
    "x = dataset['price'].values\n",
    "y1 = dataset['livingArea'].values\n",
    "y2 = dataset['landValue'].values\n",
    "y3 = dataset['landValue'].values\n",
    "print(x[:5])\n",
    "print(y1[:5])\n",
    "print(y2[:5])\n",
    "print(y3[:5])"
   ]
  },
  {
   "cell_type": "code",
   "execution_count": 82,
   "id": "7bd7e619",
   "metadata": {},
   "outputs": [
    {
     "data": {
      "text/plain": [
       "LinearRegression()"
      ]
     },
     "execution_count": 82,
     "metadata": {},
     "output_type": "execute_result"
    }
   ],
   "source": [
    "reg = linear_model.LinearRegression()\n",
    "reg.fit(dataset[['age','livingArea','bedrooms']],dataset.price)"
   ]
  },
  {
   "cell_type": "code",
   "execution_count": 87,
   "id": "e4453810",
   "metadata": {},
   "outputs": [
    {
     "data": {
      "text/plain": [
       "array([  -173.06774125,    122.65474233, -12660.19129229])"
      ]
     },
     "execution_count": 87,
     "metadata": {},
     "output_type": "execute_result"
    }
   ],
   "source": [
    "m=reg.coef_\n",
    "m"
   ]
  },
  {
   "cell_type": "code",
   "execution_count": 90,
   "id": "69ba54ad",
   "metadata": {},
   "outputs": [
    {
     "data": {
      "text/plain": [
       "41478.737395315926"
      ]
     },
     "execution_count": 90,
     "metadata": {},
     "output_type": "execute_result"
    }
   ],
   "source": [
    "c=reg.intercept_\n",
    "c"
   ]
  },
  {
   "cell_type": "code",
   "execution_count": 93,
   "id": "839e5012",
   "metadata": {},
   "outputs": [
    {
     "data": {
      "text/plain": [
       "[<matplotlib.lines.Line2D at 0x24f9c36cfd0>]"
      ]
     },
     "execution_count": 93,
     "metadata": {},
     "output_type": "execute_result"
    },
    {
     "data": {
      "image/png": "[encoded data removed]",
      "text/plain": [
       "<Figure size 432x288 with 1 Axes>"
      ]
     },
     "metadata": {
      "needs_background": "light"
     },
     "output_type": "display_data"
    }
   ],
   "source": [
    "predic = []\n",
    "\n",
    "for i in range(len(x)):\n",
    "    y_pred= m[0]*y1[i] + m[1]*y2[i] + m[2]*y3[i] + c\n",
    "    predic.append(y_pred)\n",
    "\n",
    "#plt.scatter(x,y)\n",
    "plt.plot(x,predic, color = 'red')"
   ]
  },
  {
   "cell_type": "code",
   "execution_count": 24,
   "id": "c83918d9",
   "metadata": {},
   "outputs": [],
   "source": [
    "import numpy as np\n",
    "import pandas as pd\n",
    "from sklearn.preprocessing import LabelEncoder\n",
    "from sklearn.preprocessing import StandardScaler\n",
    "import matplotlib.pyplot as plt"
   ]
  },
  {
   "cell_type": "code",
   "execution_count": 4,
   "id": "45e7b7eb",
   "metadata": {},
   "outputs": [
    {
     "data": {
      "text/html": [
       "<div>\n",
       "<style scoped>\n",
       "    .dataframe tbody tr th:only-of-type {\n",
       "        vertical-align: middle;\n",
       "    }\n",
       "\n",
       "    .dataframe tbody tr th {\n",
       "        vertical-align: top;\n",
       "    }\n",
       "\n",
       "    .dataframe thead th {\n",
       "        text-align: right;\n",
       "    }\n",
       "</style>\n",
       "<table border=\"1\" class=\"dataframe\">\n",
       "  <thead>\n",
       "    <tr style=\"text-align: right;\">\n",
       "      <th></th>\n",
       "      <th>Unnamed: 0</th>\n",
       "      <th>price</th>\n",
       "      <th>lotSize</th>\n",
       "      <th>age</th>\n",
       "      <th>landValue</th>\n",
       "      <th>livingArea</th>\n",
       "      <th>pctCollege</th>\n",
       "      <th>bedrooms</th>\n",
       "      <th>fireplaces</th>\n",
       "      <th>bathrooms</th>\n",
       "      <th>rooms</th>\n",
       "      <th>heating</th>\n",
       "      <th>fuel</th>\n",
       "      <th>sewer</th>\n",
       "      <th>waterfront</th>\n",
       "      <th>newConstruction</th>\n",
       "      <th>centralAir</th>\n",
       "    </tr>\n",
       "  </thead>\n",
       "  <tbody>\n",
       "    <tr>\n",
       "      <th>0</th>\n",
       "      <td>1</td>\n",
       "      <td>132500</td>\n",
       "      <td>0.09</td>\n",
       "      <td>42</td>\n",
       "      <td>50000</td>\n",
       "      <td>906</td>\n",
       "      <td>35</td>\n",
       "      <td>2</td>\n",
       "      <td>1</td>\n",
       "      <td>1.0</td>\n",
       "      <td>5</td>\n",
       "      <td>electric</td>\n",
       "      <td>electric</td>\n",
       "      <td>septic</td>\n",
       "      <td>No</td>\n",
       "      <td>No</td>\n",
       "      <td>No</td>\n",
       "    </tr>\n",
       "    <tr>\n",
       "      <th>1</th>\n",
       "      <td>2</td>\n",
       "      <td>181115</td>\n",
       "      <td>0.92</td>\n",
       "      <td>0</td>\n",
       "      <td>22300</td>\n",
       "      <td>1953</td>\n",
       "      <td>51</td>\n",
       "      <td>3</td>\n",
       "      <td>0</td>\n",
       "      <td>2.5</td>\n",
       "      <td>6</td>\n",
       "      <td>hot water/steam</td>\n",
       "      <td>gas</td>\n",
       "      <td>septic</td>\n",
       "      <td>No</td>\n",
       "      <td>No</td>\n",
       "      <td>No</td>\n",
       "    </tr>\n",
       "    <tr>\n",
       "      <th>2</th>\n",
       "      <td>3</td>\n",
       "      <td>109000</td>\n",
       "      <td>0.19</td>\n",
       "      <td>133</td>\n",
       "      <td>7300</td>\n",
       "      <td>1944</td>\n",
       "      <td>51</td>\n",
       "      <td>4</td>\n",
       "      <td>1</td>\n",
       "      <td>1.0</td>\n",
       "      <td>8</td>\n",
       "      <td>hot water/steam</td>\n",
       "      <td>gas</td>\n",
       "      <td>public/commercial</td>\n",
       "      <td>No</td>\n",
       "      <td>No</td>\n",
       "      <td>No</td>\n",
       "    </tr>\n",
       "    <tr>\n",
       "      <th>3</th>\n",
       "      <td>4</td>\n",
       "      <td>155000</td>\n",
       "      <td>0.41</td>\n",
       "      <td>13</td>\n",
       "      <td>18700</td>\n",
       "      <td>1944</td>\n",
       "      <td>51</td>\n",
       "      <td>3</td>\n",
       "      <td>1</td>\n",
       "      <td>1.5</td>\n",
       "      <td>5</td>\n",
       "      <td>hot air</td>\n",
       "      <td>gas</td>\n",
       "      <td>septic</td>\n",
       "      <td>No</td>\n",
       "      <td>No</td>\n",
       "      <td>No</td>\n",
       "    </tr>\n",
       "    <tr>\n",
       "      <th>4</th>\n",
       "      <td>5</td>\n",
       "      <td>86060</td>\n",
       "      <td>0.11</td>\n",
       "      <td>0</td>\n",
       "      <td>15000</td>\n",
       "      <td>840</td>\n",
       "      <td>51</td>\n",
       "      <td>2</td>\n",
       "      <td>0</td>\n",
       "      <td>1.0</td>\n",
       "      <td>3</td>\n",
       "      <td>hot air</td>\n",
       "      <td>gas</td>\n",
       "      <td>public/commercial</td>\n",
       "      <td>No</td>\n",
       "      <td>Yes</td>\n",
       "      <td>Yes</td>\n",
       "    </tr>\n",
       "  </tbody>\n",
       "</table>\n",
       "</div>"
      ],
      "text/plain": [
       "   Unnamed: 0   price  lotSize  age  landValue  livingArea  pctCollege  \\\n",
       "0           1  132500     0.09   42      50000         906          35   \n",
       "1           2  181115     0.92    0      22300        1953          51   \n",
       "2           3  109000     0.19  133       7300        1944          51   \n",
       "3           4  155000     0.41   13      18700        1944          51   \n",
       "4           5   86060     0.11    0      15000         840          51   \n",
       "\n",
       "   bedrooms  fireplaces  bathrooms  rooms          heating      fuel  \\\n",
       "0         2           1        1.0      5         electric  electric   \n",
       "1         3           0        2.5      6  hot water/steam       gas   \n",
       "2         4           1        1.0      8  hot water/steam       gas   \n",
       "3         3           1        1.5      5          hot air       gas   \n",
       "4         2           0        1.0      3          hot air       gas   \n",
       "\n",
       "               sewer waterfront newConstruction centralAir  \n",
       "0             septic         No              No         No  \n",
       "1             septic         No              No         No  \n",
       "2  public/commercial         No              No         No  \n",
       "3             septic         No              No         No  \n",
       "4  public/commercial         No             Yes        Yes  "
      ]
     },
     "execution_count": 4,
     "metadata": {},
     "output_type": "execute_result"
    }
   ],
   "source": [
    "ds = pd.read_csv('SaratogaHouses.csv')\n",
    "ds.head()"
   ]
  },
  {
   "cell_type": "code",
   "execution_count": 28,
   "id": "c4491440",
   "metadata": {},
   "outputs": [],
   "source": [
    "la = ds['livingArea']\n",
    "lv = ds['landValue']\n",
    "r = ds['rooms']\n",
    "ca = ds['centralAir']\n",
    "price = ds['price']"
   ]
  },
  {
   "cell_type": "code",
   "execution_count": 30,
   "id": "5d7791e5",
   "metadata": {},
   "outputs": [
    {
     "data": {
      "text/plain": [
       "array([0, 0, 0, ..., 0, 0, 0])"
      ]
     },
     "execution_count": 30,
     "metadata": {},
     "output_type": "execute_result"
    }
   ],
   "source": [
    "encoder = LabelEncoder()\n",
    "ca = encoder.fit_transform(ca)\n",
    "ca"
   ]
  },
  {
   "cell_type": "code",
   "execution_count": 32,
   "id": "628994ac",
   "metadata": {},
   "outputs": [
    {
     "name": "stdout",
     "output_type": "stream",
     "text": [
      "[[1.000e+00 9.060e+02 5.000e+04 5.000e+00 0.000e+00]\n",
      " [1.000e+00 1.953e+03 2.230e+04 6.000e+00 0.000e+00]\n",
      " [1.000e+00 1.944e+03 7.300e+03 8.000e+00 0.000e+00]\n",
      " [1.000e+00 1.944e+03 1.870e+04 5.000e+00 0.000e+00]\n",
      " [1.000e+00 8.400e+02 1.500e+04 3.000e+00 1.000e+00]]\n"
     ]
    }
   ],
   "source": [
    "n = len(price)\n",
    "x0 = np.ones(n)\n",
    "x = np.array([x0, la, lv, r, ca]).T\n",
    "y = np.array(price)\n",
    "B = np.zeros(5)"
   ]
  },
  {
   "cell_type": "code",
   "execution_count": 34,
   "id": "095ff1bd",
   "metadata": {},
   "outputs": [
    {
     "data": {
      "text/plain": [
       "array([[ 0.        , -1.36985441,  0.44108417, -0.88163155, -0.76221375],\n",
       "       [ 0.        ,  0.31951971, -0.350095  , -0.44981202, -0.76221375],\n",
       "       [ 0.        ,  0.30499787, -0.77853137,  0.41382706, -0.76221375],\n",
       "       [ 0.        ,  0.30499787, -0.45291972, -0.88163155, -0.76221375],\n",
       "       [ 0.        , -1.47634791, -0.5586007 , -1.74527063,  1.31196793]])"
      ]
     },
     "execution_count": 34,
     "metadata": {},
     "output_type": "execute_result"
    }
   ],
   "source": [
    "std = StandardScaler()\n",
    "x = std.fit_transform(x)\n",
    "x[:5]"
   ]
  },
  {
   "cell_type": "code",
   "execution_count": 39,
   "id": "2a7f6894",
   "metadata": {},
   "outputs": [
    {
     "data": {
      "text/plain": [
       "array([[-0.80748259],\n",
       "       [-0.31349249],\n",
       "       [-1.04627242],\n",
       "       ...,\n",
       "       [-0.17341939],\n",
       "       [-0.88369211],\n",
       "       [-1.0229015 ]])"
      ]
     },
     "execution_count": 39,
     "metadata": {},
     "output_type": "execute_result"
    }
   ],
   "source": [
    "y = y.reshape(y.shape[0],1)\n",
    "y = std.fit_transform(y)\n",
    "y"
   ]
  },
  {
   "cell_type": "code",
   "execution_count": 41,
   "id": "41b2de0d",
   "metadata": {},
   "outputs": [
    {
     "data": {
      "text/plain": [
       "864.0000000000001"
      ]
     },
     "execution_count": 41,
     "metadata": {},
     "output_type": "execute_result"
    }
   ],
   "source": [
    "def cost_function(x,y,B):\n",
    "    h = np.sum((x.dot(B) - y) ** 2 ) / (2*n)\n",
    "    return h\n",
    "cost_function(x,y,B)"
   ]
  },
  {
   "cell_type": "code",
   "execution_count": 56,
   "id": "25f674d7",
   "metadata": {},
   "outputs": [
    {
     "name": "stdout",
     "output_type": "stream",
     "text": [
      "[0.4987632080692539, 0.49753164035908026, 0.49630527462041707, 0.49508408869914355, 0.49386806053567356]\n",
      "[0.         0.45303928 0.33496539 0.09554414 0.10896487]\n"
     ]
    }
   ],
   "source": [
    "def gradient_descent(X,y,B,epoch,alpha):\n",
    "    cost_history = [0] * epoch\n",
    "    \n",
    "    for i in range(epoch):\n",
    "        y_pred = X.dot(B)\n",
    "        loss = y_pred - y\n",
    "        gradient = X.T.dot(loss) / n\n",
    "        B = B - alpha * gradient\n",
    "        cost_history[i] = cost_function(X,y,B)\n",
    "        \n",
    "    return cost_history, B\n",
    "\n",
    "cost, b = gradient_descent(x,y.flatten(),B,epoch=5000,alpha = 0.001)\n",
    "print(cost[:5])\n",
    "print(b[:5])"
   ]
  },
  {
   "cell_type": "code",
   "execution_count": 53,
   "id": "e1169825",
   "metadata": {},
   "outputs": [
    {
     "data": {
      "text/plain": [
       "[<matplotlib.lines.Line2D at 0x24f9a711c70>]"
      ]
     },
     "execution_count": 53,
     "metadata": {},
     "output_type": "execute_result"
    },
    {
     "data": {
      "image/png": "[encoded data removed]",
      "text/plain": [
       "<Figure size 432x288 with 1 Axes>"
      ]
     },
     "metadata": {
      "needs_background": "light"
     },
     "output_type": "display_data"
    }
   ],
   "source": [
    "x1 = [i for i in range(5000)]\n",
    "plt.plot(x1, cost)"
   ]
  },
  {
   "cell_type": "code",
   "execution_count": 57,
   "id": "7720c6b6",
   "metadata": {},
   "outputs": [
    {
     "data": {
      "text/plain": [
       "[<matplotlib.lines.Line2D at 0x24f9a7a6700>]"
      ]
     },
     "execution_count": 57,
     "metadata": {},
     "output_type": "execute_result"
    },
    {
     "data": {
      "image/png": "[encoded data removed]",
      "text/plain": [
       "<Figure size 432x288 with 1 Axes>"
      ]
     },
     "metadata": {
      "needs_background": "light"
     },
     "output_type": "display_data"
    }
   ],
   "source": [
    "x1 = [i for i in range(5000)]\n",
    "plt.plot(x1, cost)"
   ]
  }
 ],
 "metadata": {
  "kernelspec": {
   "display_name": "Python 3",
   "language": "python",
   "name": "python3"
  },
  "language_info": {
   "codemirror_mode": {
    "name": "ipython",
    "version": 3
   },
   "file_extension": ".py",
   "mimetype": "text/x-python",
   "name": "python",
   "nbconvert_exporter": "python",
   "pygments_lexer": "ipython3",
   "version": "3.8.8"
  }
 },
 "nbformat": 4,
 "nbformat_minor": 5
}
