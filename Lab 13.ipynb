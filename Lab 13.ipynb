{
 "cells": [
  {
   "cell_type": "code",
   "execution_count": 1,
   "id": "41141ea5",
   "metadata": {},
   "outputs": [],
   "source": [
    "import numpy as np\n",
    "from tensorflow import keras\n",
    "import matplotlib.pyplot as plt\n",
    "from tensorflow.keras import layers"
   ]
  },
  {
   "cell_type": "code",
   "execution_count": 3,
   "id": "8dd94d10",
   "metadata": {},
   "outputs": [
    {
     "name": "stdout",
     "output_type": "stream",
     "text": [
      "x_train shape: (60000, 28, 28, 1)\n",
      "60000 train samples\n",
      "10000 test samples\n"
     ]
    }
   ],
   "source": [
    "num_classes = 10\n",
    "input_shape = (28, 28, 1)\n",
    "\n",
    "(x_train, y_train), (x_test, y_test) = keras.datasets.mnist.load_data()\n",
    "\n",
    "x_train = x_train.astype(\"float32\") / 255\n",
    "x_test = x_test.astype(\"float32\") / 255\n",
    "x_train = np.expand_dims(x_train, -1)\n",
    "x_test = np.expand_dims(x_test, -1)\n",
    "print(\"x_train shape:\", x_train.shape)\n",
    "print(x_train.shape[0], \"train samples\")\n",
    "print(x_test.shape[0], \"test samples\")\n",
    "\n",
    "\n",
    "y_train = keras.utils.to_categorical(y_train, num_classes)\n",
    "y_test = keras.utils.to_categorical(y_test, num_classes)"
   ]
  },
  {
   "cell_type": "code",
   "execution_count": 4,
   "id": "5267e8c3",
   "metadata": {},
   "outputs": [
    {
     "name": "stdout",
     "output_type": "stream",
     "text": [
      "Model: \"sequential\"\n",
      "_________________________________________________________________\n",
      "Layer (type)                 Output Shape              Param #   \n",
      "=================================================================\n",
      "conv2d (Conv2D)              (None, 26, 26, 32)        320       \n",
      "_________________________________________________________________\n",
      "max_pooling2d (MaxPooling2D) (None, 13, 13, 32)        0         \n",
      "_________________________________________________________________\n",
      "conv2d_1 (Conv2D)            (None, 11, 11, 64)        18496     \n",
      "_________________________________________________________________\n",
      "max_pooling2d_1 (MaxPooling2 (None, 5, 5, 64)          0         \n",
      "_________________________________________________________________\n",
      "flatten (Flatten)            (None, 1600)              0         \n",
      "_________________________________________________________________\n",
      "dropout (Dropout)            (None, 1600)              0         \n",
      "_________________________________________________________________\n",
      "dense (Dense)                (None, 10)                16010     \n",
      "=================================================================\n",
      "Total params: 34,826\n",
      "Trainable params: 34,826\n",
      "Non-trainable params: 0\n",
      "_________________________________________________________________\n"
     ]
    }
   ],
   "source": [
    "model = keras.Sequential(\n",
    "    [\n",
    "        keras.Input(shape=input_shape),\n",
    "        layers.Conv2D(32, kernel_size=(3, 3), activation=\"relu\"),\n",
    "        layers.MaxPooling2D(pool_size=(2, 2)),\n",
    "        layers.Conv2D(64, kernel_size=(3, 3), activation=\"relu\"),\n",
    "        layers.MaxPooling2D(pool_size=(2, 2)),\n",
    "        layers.Flatten(),\n",
    "        layers.Dropout(0.5),\n",
    "        layers.Dense(num_classes, activation=\"softmax\"),\n",
    "    ]\n",
    ")\n",
    "\n",
    "model.summary()"
   ]
  },
  {
   "cell_type": "code",
   "execution_count": 7,
   "id": "280fece6",
   "metadata": {},
   "outputs": [
    {
     "name": "stdout",
     "output_type": "stream",
     "text": [
      "Epoch 1/5\n",
      "422/422 [==============================] - 16s 37ms/step - loss: 0.3690 - accuracy: 0.8876 - val_loss: 0.0877 - val_accuracy: 0.9755\n",
      "Epoch 2/5\n",
      "422/422 [==============================] - 16s 38ms/step - loss: 0.1140 - accuracy: 0.9651 - val_loss: 0.0649 - val_accuracy: 0.9807\n",
      "Epoch 3/5\n",
      "422/422 [==============================] - 15s 36ms/step - loss: 0.0870 - accuracy: 0.9735 - val_loss: 0.0507 - val_accuracy: 0.9858\n",
      "Epoch 4/5\n",
      "422/422 [==============================] - 16s 37ms/step - loss: 0.0713 - accuracy: 0.9782 - val_loss: 0.0414 - val_accuracy: 0.9893\n",
      "Epoch 5/5\n",
      "422/422 [==============================] - 16s 37ms/step - loss: 0.0619 - accuracy: 0.9810 - val_loss: 0.0372 - val_accuracy: 0.9903\n"
     ]
    }
   ],
   "source": [
    "batch_size = 128\n",
    "epochs = 5\n",
    "\n",
    "model.compile(loss=\"categorical_crossentropy\", optimizer=\"adam\", metrics=[\"accuracy\"])\n",
    "\n",
    "history = model.fit(x_train, y_train, batch_size=batch_size, epochs=epochs, validation_split=0.1)"
   ]
  },
  {
   "cell_type": "code",
   "execution_count": 8,
   "id": "6069a8c1",
   "metadata": {},
   "outputs": [
    {
     "name": "stdout",
     "output_type": "stream",
     "text": [
      "Test loss: 0.038168810307979584\n",
      "Test accuracy: 0.9879999756813049\n"
     ]
    }
   ],
   "source": [
    "score = model.evaluate(x_test, y_test, verbose=0)\n",
    "print(\"Test loss:\", score[0])\n",
    "print(\"Test accuracy:\", score[1])"
   ]
  },
  {
   "cell_type": "code",
   "execution_count": 10,
   "id": "13ff9eb4",
   "metadata": {},
   "outputs": [
    {
     "data": {
      "image/png": "[encoded data removed]",
      "text/plain": [
       "<Figure size 432x288 with 1 Axes>"
      ]
     },
     "metadata": {
      "needs_background": "light"
     },
     "output_type": "display_data"
    }
   ],
   "source": [
    "plt.plot(history.history['loss'],'r',linewidth=3.0)\n",
    "plt.plot(history.history['val_loss'],'b',linewidth=3.0)\n",
    "plt.show()"
   ]
  },
  {
   "cell_type": "code",
   "execution_count": 11,
   "id": "5ce11ffc",
   "metadata": {},
   "outputs": [],
   "source": [
    "from keras.models import Sequential\n",
    "from keras.layers import Dense\n",
    "from sklearn import datasets\n",
    "cancer = datasets.load_breast_cancer()\n",
    "from sklearn.model_selection import train_test_split\n",
    "from sklearn.preprocessing import StandardScaler"
   ]
  },
  {
   "cell_type": "code",
   "execution_count": 14,
   "id": "cc731a0c",
   "metadata": {},
   "outputs": [
    {
     "name": "stdout",
     "output_type": "stream",
     "text": [
      "Epoch 1/20\n",
      "10/10 [==============================] - 0s 9ms/step - loss: 0.6091 - accuracy: 0.7209 - val_loss: 0.5224 - val_accuracy: 0.7895\n",
      "Epoch 2/20\n",
      "10/10 [==============================] - 0s 2ms/step - loss: 0.4644 - accuracy: 0.8462 - val_loss: 0.4013 - val_accuracy: 0.8684\n",
      "Epoch 3/20\n",
      "10/10 [==============================] - 0s 1ms/step - loss: 0.3623 - accuracy: 0.8989 - val_loss: 0.3179 - val_accuracy: 0.9298\n",
      "Epoch 4/20\n",
      "10/10 [==============================] - 0s 1ms/step - loss: 0.2874 - accuracy: 0.9253 - val_loss: 0.2601 - val_accuracy: 0.9386\n",
      "Epoch 5/20\n",
      "10/10 [==============================] - 0s 2ms/step - loss: 0.2328 - accuracy: 0.9385 - val_loss: 0.2210 - val_accuracy: 0.9386\n",
      "Epoch 6/20\n",
      "10/10 [==============================] - 0s 1ms/step - loss: 0.1938 - accuracy: 0.9560 - val_loss: 0.1922 - val_accuracy: 0.9386\n",
      "Epoch 7/20\n",
      "10/10 [==============================] - 0s 2ms/step - loss: 0.1649 - accuracy: 0.9648 - val_loss: 0.1707 - val_accuracy: 0.9561\n",
      "Epoch 8/20\n",
      "10/10 [==============================] - 0s 1ms/step - loss: 0.1442 - accuracy: 0.9670 - val_loss: 0.1556 - val_accuracy: 0.9561\n",
      "Epoch 9/20\n",
      "10/10 [==============================] - 0s 1ms/step - loss: 0.1276 - accuracy: 0.9714 - val_loss: 0.1434 - val_accuracy: 0.9474\n",
      "Epoch 10/20\n",
      "10/10 [==============================] - 0s 1ms/step - loss: 0.1150 - accuracy: 0.9714 - val_loss: 0.1332 - val_accuracy: 0.9474\n",
      "Epoch 11/20\n",
      "10/10 [==============================] - 0s 1ms/step - loss: 0.1042 - accuracy: 0.9714 - val_loss: 0.1258 - val_accuracy: 0.9474\n",
      "Epoch 12/20\n",
      "10/10 [==============================] - 0s 1ms/step - loss: 0.0958 - accuracy: 0.9758 - val_loss: 0.1200 - val_accuracy: 0.9386\n",
      "Epoch 13/20\n",
      "10/10 [==============================] - 0s 2ms/step - loss: 0.0888 - accuracy: 0.9758 - val_loss: 0.1160 - val_accuracy: 0.9386\n",
      "Epoch 14/20\n",
      "10/10 [==============================] - 0s 2ms/step - loss: 0.0835 - accuracy: 0.9802 - val_loss: 0.1128 - val_accuracy: 0.9386\n",
      "Epoch 15/20\n",
      "10/10 [==============================] - 0s 1ms/step - loss: 0.0785 - accuracy: 0.9802 - val_loss: 0.1099 - val_accuracy: 0.9386\n",
      "Epoch 16/20\n",
      "10/10 [==============================] - 0s 2ms/step - loss: 0.0747 - accuracy: 0.9802 - val_loss: 0.1083 - val_accuracy: 0.9386\n",
      "Epoch 17/20\n",
      "10/10 [==============================] - 0s 2ms/step - loss: 0.0711 - accuracy: 0.9824 - val_loss: 0.1065 - val_accuracy: 0.9386\n",
      "Epoch 18/20\n",
      "10/10 [==============================] - 0s 1ms/step - loss: 0.0680 - accuracy: 0.9824 - val_loss: 0.1058 - val_accuracy: 0.9386\n",
      "Epoch 19/20\n",
      "10/10 [==============================] - 0s 1ms/step - loss: 0.0655 - accuracy: 0.9846 - val_loss: 0.1049 - val_accuracy: 0.9474\n",
      "Epoch 20/20\n",
      "10/10 [==============================] - 0s 2ms/step - loss: 0.0631 - accuracy: 0.9868 - val_loss: 0.1039 - val_accuracy: 0.9474\n"
     ]
    }
   ],
   "source": [
    "model = Sequential()\n",
    "layer1 = Dense(units=32, activation = 'relu', input_dim = 30)\n",
    "model.add(layer1)\n",
    "model.add(Dense(units=16, activation = 'relu'))\n",
    "model.add(Dense(units=1, activation = 'sigmoid'))\n",
    "model.compile(optimizer='adam', loss='binary_crossentropy', metrics=['accuracy'])\n",
    "x_train, x_test, y_train, y_test = train_test_split(cancer.data, cancer.target, test_size = 0.2, random_state = 0)\n",
    "sc = StandardScaler()\n",
    "x_train = sc.fit_transform(x_train)\n",
    "x_test = sc.transform(x_test)\n",
    "history = model.fit(x_train, y_train, epochs=20, batch_size = 50, validation_data=(x_test, y_test))"
   ]
  },
  {
   "cell_type": "code",
   "execution_count": 15,
   "id": "044da12f",
   "metadata": {},
   "outputs": [
    {
     "name": "stdout",
     "output_type": "stream",
     "text": [
      "4/4 [==============================] - 0s 500us/step - loss: 0.1039 - accuracy: 0.9474\n"
     ]
    },
    {
     "data": {
      "text/plain": [
       "[0.10394591838121414, 0.9473684430122375]"
      ]
     },
     "execution_count": 15,
     "metadata": {},
     "output_type": "execute_result"
    }
   ],
   "source": [
    "predictions = model.predict(x_test)\n",
    "score = model.evaluate(x_test, y_test)\n",
    "score"
   ]
  },
  {
   "cell_type": "code",
   "execution_count": 23,
   "id": "8e95bf2b",
   "metadata": {},
   "outputs": [
    {
     "data": {
      "text/plain": [
       "[<matplotlib.lines.Line2D at 0x2b740c5fbb0>]"
      ]
     },
     "execution_count": 23,
     "metadata": {},
     "output_type": "execute_result"
    },
    {
     "data": {
      "image/png": "[encoded data removed]",
      "text/plain": [
       "<Figure size 432x288 with 1 Axes>"
      ]
     },
     "metadata": {
      "needs_background": "light"
     },
     "output_type": "display_data"
    }
   ],
   "source": [
    "plt.plot(history.history['loss'],'r',linewidth=3.0)\n",
    "plt.plot(history.history['val_loss'],'b',linewidth=3.0)"
   ]
  },
  {
   "cell_type": "code",
   "execution_count": 22,
   "id": "e97adec3",
   "metadata": {},
   "outputs": [
    {
     "data": {
      "text/plain": [
       "[<matplotlib.lines.Line2D at 0x2b740c05310>]"
      ]
     },
     "execution_count": 22,
     "metadata": {},
     "output_type": "execute_result"
    },
    {
     "data": {
      "image/png": "[encoded data removed]",
      "text/plain": [
       "<Figure size 432x288 with 1 Axes>"
      ]
     },
     "metadata": {
      "needs_background": "light"
     },
     "output_type": "display_data"
    }
   ],
   "source": [
    "plt.plot(history.history['accuracy'],'r',linewidth=3.0)\n",
    "plt.plot(history.history['val_accuracy'],'b',linewidth=3.0)"
   ]
  }
 ],
 "metadata": {
  "kernelspec": {
   "display_name": "Python 3",
   "language": "python",
   "name": "python3"
  },
  "language_info": {
   "codemirror_mode": {
    "name": "ipython",
    "version": 3
   },
   "file_extension": ".py",
   "mimetype": "text/x-python",
   "name": "python",
   "nbconvert_exporter": "python",
   "pygments_lexer": "ipython3",
   "version": "3.8.8"
  }
 },
 "nbformat": 4,
 "nbformat_minor": 5
}
