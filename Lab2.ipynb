{
 "cells": [
  {
   "cell_type": "code",
   "execution_count": 7,
   "id": "e9a54ff4",
   "metadata": {},
   "outputs": [
    {
     "name": "stdout",
     "output_type": "stream",
     "text": [
      "['U', 'm', 'a', 'n', 'g']\n"
     ]
    },
    {
     "data": {
      "text/plain": [
       "['U', 'a', 'g', 'm', 'n']"
      ]
     },
     "execution_count": 7,
     "metadata": {},
     "output_type": "execute_result"
    }
   ],
   "source": [
    "name='Umang'\n",
    "lst = list(name)\n",
    "print(lst)\n",
    "lst.sort()\n",
    "lst"
   ]
  },
  {
   "cell_type": "code",
   "execution_count": 12,
   "id": "3417570b",
   "metadata": {},
   "outputs": [
    {
     "data": {
      "text/plain": [
       "[1, 2, 3, 4, 5]"
      ]
     },
     "execution_count": 12,
     "metadata": {},
     "output_type": "execute_result"
    }
   ],
   "source": [
    "tpl = (1,2,3,4,5)\n",
    "lst = list(tpl)\n",
    "lst"
   ]
  },
  {
   "cell_type": "code",
   "execution_count": 14,
   "id": "0bedeafc",
   "metadata": {},
   "outputs": [
    {
     "name": "stdout",
     "output_type": "stream",
     "text": [
      "3\n"
     ]
    },
    {
     "data": {
      "text/plain": [
       "2"
      ]
     },
     "execution_count": 14,
     "metadata": {},
     "output_type": "execute_result"
    }
   ],
   "source": [
    "lst = [1,2,3,4,5]\n",
    "print(lst[2])\n",
    "lst.index(3)"
   ]
  },
  {
   "cell_type": "code",
   "execution_count": 19,
   "id": "432886c8",
   "metadata": {},
   "outputs": [
    {
     "name": "stdout",
     "output_type": "stream",
     "text": [
      "(2, 3)\n",
      "[4, 5]\n"
     ]
    }
   ],
   "source": [
    "tpl = (1,2,3,4,5)\n",
    "lst = [1,2,3,4,5]\n",
    "print(tpl[1:3])\n",
    "print(lst[3:5])"
   ]
  },
  {
   "cell_type": "code",
   "execution_count": 22,
   "id": "29d1138f",
   "metadata": {},
   "outputs": [
    {
     "name": "stdout",
     "output_type": "stream",
     "text": [
      "[1, 2, 3, 4, 5, 6]\n"
     ]
    }
   ],
   "source": [
    "l1 = [1,2,3]\n",
    "l2 = [4,5,6]\n",
    "print(l1+l2)"
   ]
  },
  {
   "cell_type": "code",
   "execution_count": 33,
   "id": "26016bde",
   "metadata": {},
   "outputs": [
    {
     "name": "stdout",
     "output_type": "stream",
     "text": [
      "789\n"
     ]
    },
    {
     "data": {
      "text/plain": [
       "789"
      ]
     },
     "execution_count": 33,
     "metadata": {},
     "output_type": "execute_result"
    }
   ],
   "source": [
    "l = [245,568,465,123,789]\n",
    "l.sort()\n",
    "print(l[-1])\n",
    "l.pop()"
   ]
  },
  {
   "cell_type": "code",
   "execution_count": 42,
   "id": "bf6240e8",
   "metadata": {},
   "outputs": [
    {
     "data": {
      "text/plain": [
       "[[1, 2, 3], [4, 5, 6]]"
      ]
     },
     "execution_count": 42,
     "metadata": {},
     "output_type": "execute_result"
    }
   ],
   "source": [
    "l1 = [1,2,3]\n",
    "l2 = [4,5,6]\n",
    "l = []\n",
    "l.append(l1)\n",
    "l.append(l2)\n",
    "l"
   ]
  },
  {
   "cell_type": "code",
   "execution_count": 45,
   "id": "951025f0",
   "metadata": {},
   "outputs": [
    {
     "name": "stdout",
     "output_type": "stream",
     "text": [
      "0\n",
      "3\n",
      "-2\n",
      "3\n",
      "0\n",
      "4\n"
     ]
    }
   ],
   "source": [
    "a = 1\n",
    "b = 2\n",
    "\n",
    "print(a&b)\n",
    "print(a|b)\n",
    "print(~a)\n",
    "print(a^b)\n",
    "print(a>>b)\n",
    "print(a<<b)"
   ]
  },
  {
   "cell_type": "code",
   "execution_count": 48,
   "id": "bca30630",
   "metadata": {},
   "outputs": [],
   "source": [
    "with open ('untitled.txt', 'r') as file1:\n",
    "    Filecontent= file1.read()"
   ]
  },
  {
   "cell_type": "code",
   "execution_count": 54,
   "id": "5f2e5408",
   "metadata": {},
   "outputs": [
    {
     "name": "stdout",
     "output_type": "stream",
     "text": [
      "This is a Test File.\n"
     ]
    }
   ],
   "source": [
    "with open ('untitled.txt','r') as file1:\n",
    "    FileContent = file1.read()\n",
    "print(FileContent)"
   ]
  },
  {
   "cell_type": "code",
   "execution_count": 61,
   "id": "3dea5d19",
   "metadata": {},
   "outputs": [
    {
     "name": "stdout",
     "output_type": "stream",
     "text": [
      "15\n"
     ]
    }
   ],
   "source": [
    "with open ('untitled.txt','w') as file1:\n",
    "    FileContent = file1.write(\"Content Changed\")\n",
    "print(FileContent)"
   ]
  },
  {
   "cell_type": "code",
   "execution_count": 60,
   "id": "ed5ea0a2",
   "metadata": {},
   "outputs": [
    {
     "name": "stdout",
     "output_type": "stream",
     "text": [
      "Content Changed\n"
     ]
    }
   ],
   "source": [
    "with open ('untitled.txt','r') as file1:\n",
    "    FileContent = file1.read()\n",
    "print(FileContent)"
   ]
  },
  {
   "cell_type": "code",
   "execution_count": null,
   "id": "a7c6d9ff",
   "metadata": {},
   "outputs": [],
   "source": [
    "with open ('untitled.txt','a') as file1:\n",
    "    FileContent = file1.write('\\nThis is to changed')\n",
    "with open ('untitled.txt','r') as file1:"
   ]
  }
 ],
 "metadata": {
  "kernelspec": {
   "display_name": "Python 3",
   "language": "python",
   "name": "python3"
  },
  "language_info": {
   "codemirror_mode": {
    "name": "ipython",
    "version": 3
   },
   "file_extension": ".py",
   "mimetype": "text/x-python",
   "name": "python",
   "nbconvert_exporter": "python",
   "pygments_lexer": "ipython3",
   "version": "3.8.8"
  }
 },
 "nbformat": 4,
 "nbformat_minor": 5
}
