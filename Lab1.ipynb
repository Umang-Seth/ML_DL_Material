{
 "cells": [
  {
   "cell_type": "code",
   "execution_count": 20,
   "id": "c28b2e64",
   "metadata": {},
   "outputs": [
    {
     "name": "stdout",
     "output_type": "stream",
     "text": [
      "7.5\n",
      "2.5\n",
      "12.5\n",
      "2.0\n",
      "0.0\n",
      "55.90169943749474\n"
     ]
    }
   ],
   "source": [
    "a = 5\n",
    "b = 2.5\n",
    "add=a+b\n",
    "sub=a-b\n",
    "multi=a*b\n",
    "divide=a/b\n",
    "rem=a%b\n",
    "exp=a**b\n",
    "print(add)\n",
    "print(sub)\n",
    "print(multi)\n",
    "print(divide)\n",
    "print(rem)\n",
    "print(exp)"
   ]
  },
  {
   "cell_type": "code",
   "execution_count": 14,
   "id": "8b5413a9",
   "metadata": {},
   "outputs": [
    {
     "name": "stdout",
     "output_type": "stream",
     "text": [
      "3\n",
      "4\n",
      "7\n",
      "-1\n",
      "1\n"
     ]
    }
   ],
   "source": [
    "c=int(input())\n",
    "d=int(input())\n",
    "print(c+d)\n",
    "print(c-d)\n",
    "print(abs(c-d))"
   ]
  },
  {
   "cell_type": "code",
   "execution_count": 18,
   "id": "f10efbf7",
   "metadata": {},
   "outputs": [
    {
     "data": {
      "text/plain": [
       "(9+5j)"
      ]
     },
     "execution_count": 18,
     "metadata": {},
     "output_type": "execute_result"
    }
   ],
   "source": [
    "a=5+3j\n",
    "b=4+2j\n",
    "a+b"
   ]
  },
  {
   "cell_type": "code",
   "execution_count": 19,
   "id": "1d1abf21",
   "metadata": {},
   "outputs": [
    {
     "data": {
      "text/plain": [
       "(1+1j)"
      ]
     },
     "execution_count": 19,
     "metadata": {},
     "output_type": "execute_result"
    }
   ],
   "source": [
    "a-b"
   ]
  }
 ],
 "metadata": {
  "kernelspec": {
   "display_name": "Python 3",
   "language": "python",
   "name": "python3"
  },
  "language_info": {
   "codemirror_mode": {
    "name": "ipython",
    "version": 3
   },
   "file_extension": ".py",
   "mimetype": "text/x-python",
   "name": "python",
   "nbconvert_exporter": "python",
   "pygments_lexer": "ipython3",
   "version": "3.8.8"
  }
 },
 "nbformat": 4,
 "nbformat_minor": 5
}
