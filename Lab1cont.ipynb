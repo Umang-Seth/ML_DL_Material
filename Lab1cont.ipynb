{
 "cells": [
  {
   "cell_type": "code",
   "execution_count": 2,
   "id": "26758171",
   "metadata": {},
   "outputs": [
    {
     "name": "stdout",
     "output_type": "stream",
     "text": [
      "Thriller is the sixth studio album by the American singer Michael Jackson, released on November 30, 1982 by Epic Records. It is the follow-up to Jacksons critically and commercially successful fifthstudio album Off the Wall (1979). Thriller explores genres similar to those of Off the Wall, including pop, post-disco, rock and funk. Recording sessions for Thriller took place from April to November 1982at Westlake Recording Studios in Los Angeles, California with a production budget of $750,000\n"
     ]
    }
   ],
   "source": [
    "txt = 'Thriller is the sixth studio album by the American singer Michael Jackson, released on November 30, 1982 by Epic Records. It is the follow-up to Jacksons critically and commercially successful fifthstudio album Off the Wall (1979). Thriller explores genres similar to those of Off the Wall, including pop, post-disco, rock and funk. Recording sessions for Thriller took place from April to November 1982at Westlake Recording Studios in Los Angeles, California with a production budget of $750,000'\n",
    "print (txt)\n"
   ]
  },
  {
   "cell_type": "code",
   "execution_count": 32,
   "id": "a42a504e",
   "metadata": {},
   "outputs": [
    {
     "data": {
      "text/plain": [
       "496"
      ]
     },
     "execution_count": 32,
     "metadata": {},
     "output_type": "execute_result"
    }
   ],
   "source": [
    "len(txt)"
   ]
  },
  {
   "cell_type": "code",
   "execution_count": 33,
   "id": "f2e4d406",
   "metadata": {},
   "outputs": [
    {
     "data": {
      "text/plain": [
       "'thriller is the sixth studio album by the american singer michael jackson, released on november 30, 1982 by epic records. it is the follow-up to jacksons critically and commercially successful fifthstudio album off the wall (1979). thriller explores genres similar to those of off the wall, including pop, post-disco, rock and funk. recording sessions for thriller took place from april to november 1982at westlake recording studios in los angeles, california with a production budget of $750,000'"
      ]
     },
     "execution_count": 33,
     "metadata": {},
     "output_type": "execute_result"
    }
   ],
   "source": [
    "txt.lower()"
   ]
  },
  {
   "cell_type": "code",
   "execution_count": 35,
   "id": "563cac25",
   "metadata": {},
   "outputs": [
    {
     "data": {
      "text/plain": [
       "'THRILLER IS THE SIXTH STUDIO ALBUM BY THE AMERICAN SINGER MICHAEL JACKSON, RELEASED ON NOVEMBER 30, 1982 BY EPIC RECORDS. IT IS THE FOLLOW-UP TO JACKSONS CRITICALLY AND COMMERCIALLY SUCCESSFUL FIFTHSTUDIO ALBUM OFF THE WALL (1979). THRILLER EXPLORES GENRES SIMILAR TO THOSE OF OFF THE WALL, INCLUDING POP, POST-DISCO, ROCK AND FUNK. RECORDING SESSIONS FOR THRILLER TOOK PLACE FROM APRIL TO NOVEMBER 1982AT WESTLAKE RECORDING STUDIOS IN LOS ANGELES, CALIFORNIA WITH A PRODUCTION BUDGET OF $750,000'"
      ]
     },
     "execution_count": 35,
     "metadata": {},
     "output_type": "execute_result"
    }
   ],
   "source": [
    "txt.upper()"
   ]
  },
  {
   "cell_type": "code",
   "execution_count": 38,
   "id": "96e3b7e3",
   "metadata": {},
   "outputs": [
    {
     "data": {
      "text/plain": [
       "'Thriller is the sixth studio  lbum by the Americ n singer Mich el J ckson, rele sed on November 30, 1982 by Epic Records. It is the follow-up to J cksons critic lly  nd commerci lly successful fifthstudio  lbum Off the W ll (1979). Thriller explores genres simil r to those of Off the W ll, including pop, post-disco, rock  nd funk. Recording sessions for Thriller took pl ce from April to November 1982 t Westl ke Recording Studios in Los Angeles, C liforni  with   production budget of $750,000'"
      ]
     },
     "execution_count": 38,
     "metadata": {},
     "output_type": "execute_result"
    }
   ],
   "source": [
    "txt.replace('a',' ')"
   ]
  },
  {
   "cell_type": "code",
   "execution_count": 43,
   "id": "e92cd22b",
   "metadata": {},
   "outputs": [
    {
     "data": {
      "text/plain": [
       "35"
      ]
     },
     "execution_count": 43,
     "metadata": {},
     "output_type": "execute_result"
    }
   ],
   "source": [
    "txt.count('e')"
   ]
  },
  {
   "cell_type": "code",
   "execution_count": 77,
   "id": "2be0fd74",
   "metadata": {},
   "outputs": [
    {
     "data": {
      "text/plain": [
       "['Thriller',\n",
       " 'is',\n",
       " 'the',\n",
       " 'sixth',\n",
       " 'studio',\n",
       " 'album',\n",
       " 'by',\n",
       " 'the',\n",
       " 'American',\n",
       " 'singer',\n",
       " 'Michael',\n",
       " 'Jackson,',\n",
       " 'released',\n",
       " 'on',\n",
       " 'November',\n",
       " '30,',\n",
       " '1982',\n",
       " 'by',\n",
       " 'Epic',\n",
       " 'Records.',\n",
       " 'It',\n",
       " 'is',\n",
       " 'the',\n",
       " 'follow-up',\n",
       " 'to',\n",
       " 'Jacksons',\n",
       " 'critically',\n",
       " 'and',\n",
       " 'commercially',\n",
       " 'successful',\n",
       " 'fifthstudio',\n",
       " 'album',\n",
       " 'Off',\n",
       " 'the',\n",
       " 'Wall',\n",
       " '(1979).',\n",
       " 'Thriller',\n",
       " 'explores',\n",
       " 'genres',\n",
       " 'similar',\n",
       " 'to',\n",
       " 'those',\n",
       " 'of',\n",
       " 'Off',\n",
       " 'the',\n",
       " 'Wall,',\n",
       " 'including',\n",
       " 'pop,',\n",
       " 'post-disco,',\n",
       " 'rock',\n",
       " 'and',\n",
       " 'funk.',\n",
       " 'Recording',\n",
       " 'sessions',\n",
       " 'for',\n",
       " 'Thriller',\n",
       " 'took',\n",
       " 'place',\n",
       " 'from',\n",
       " 'April',\n",
       " 'to',\n",
       " 'November',\n",
       " '1982at',\n",
       " 'Westlake',\n",
       " 'Recording',\n",
       " 'Studios',\n",
       " 'in',\n",
       " 'Los',\n",
       " 'Angeles,',\n",
       " 'California',\n",
       " 'with',\n",
       " 'a',\n",
       " 'production',\n",
       " 'budget',\n",
       " 'of',\n",
       " '$750,000']"
      ]
     },
     "execution_count": 77,
     "metadata": {},
     "output_type": "execute_result"
    }
   ],
   "source": [
    "txt.split(' ')"
   ]
  },
  {
   "cell_type": "code",
   "execution_count": 103,
   "id": "66c603e0",
   "metadata": {},
   "outputs": [
    {
     "data": {
      "text/plain": [
       "['$750,000',\n",
       " '(1979).',\n",
       " '1982',\n",
       " '1982at',\n",
       " '30,',\n",
       " 'American',\n",
       " 'Angeles,',\n",
       " 'April',\n",
       " 'California',\n",
       " 'Epic',\n",
       " 'It',\n",
       " 'Jackson,',\n",
       " 'Jacksons',\n",
       " 'Los',\n",
       " 'Michael',\n",
       " 'November',\n",
       " 'November',\n",
       " 'Off',\n",
       " 'Off',\n",
       " 'Recording',\n",
       " 'Recording',\n",
       " 'Records.',\n",
       " 'Studios',\n",
       " 'Thriller',\n",
       " 'Thriller',\n",
       " 'Thriller',\n",
       " 'Wall',\n",
       " 'Wall,',\n",
       " 'Westlake',\n",
       " 'a',\n",
       " 'album',\n",
       " 'album',\n",
       " 'and',\n",
       " 'and',\n",
       " 'budget',\n",
       " 'by',\n",
       " 'by',\n",
       " 'commercially',\n",
       " 'critically',\n",
       " 'explores',\n",
       " 'fifthstudio',\n",
       " 'follow-up',\n",
       " 'for',\n",
       " 'from',\n",
       " 'funk.',\n",
       " 'genres',\n",
       " 'in',\n",
       " 'including',\n",
       " 'is',\n",
       " 'is',\n",
       " 'of',\n",
       " 'of',\n",
       " 'on',\n",
       " 'place',\n",
       " 'pop,',\n",
       " 'post-disco,',\n",
       " 'production',\n",
       " 'released',\n",
       " 'rock',\n",
       " 'sessions',\n",
       " 'similar',\n",
       " 'singer',\n",
       " 'sixth',\n",
       " 'studio',\n",
       " 'successful',\n",
       " 'the',\n",
       " 'the',\n",
       " 'the',\n",
       " 'the',\n",
       " 'the',\n",
       " 'those',\n",
       " 'to',\n",
       " 'to',\n",
       " 'to',\n",
       " 'took',\n",
       " 'with']"
      ]
     },
     "execution_count": 103,
     "metadata": {},
     "output_type": "execute_result"
    }
   ],
   "source": [
    "split = txt.split(' ')\n",
    "split.sort()\n",
    "split"
   ]
  },
  {
   "cell_type": "code",
   "execution_count": 81,
   "id": "08ee59d2",
   "metadata": {},
   "outputs": [],
   "source": [
    "name = 'Umang'"
   ]
  },
  {
   "cell_type": "code",
   "execution_count": 88,
   "id": "fcef4b5d",
   "metadata": {},
   "outputs": [
    {
     "data": {
      "text/plain": [
       "'Umang'"
      ]
     },
     "execution_count": 88,
     "metadata": {},
     "output_type": "execute_result"
    }
   ],
   "source": [
    "name[0:5]"
   ]
  },
  {
   "cell_type": "code",
   "execution_count": 105,
   "id": "765c577a",
   "metadata": {},
   "outputs": [
    {
     "data": {
      "text/plain": [
       "'Uman'"
      ]
     },
     "execution_count": 105,
     "metadata": {},
     "output_type": "execute_result"
    }
   ],
   "source": [
    "name[-5:-1]"
   ]
  },
  {
   "cell_type": "code",
   "execution_count": 3,
   "id": "a0a7a6b8",
   "metadata": {
    "scrolled": true
   },
   "outputs": [
    {
     "ename": "AttributeError",
     "evalue": "'DataFrame' object has no attribute 'df'",
     "output_type": "error",
     "traceback": [
      "\u001b[1;31m---------------------------------------------------------------------------\u001b[0m",
      "\u001b[1;31mAttributeError\u001b[0m                            Traceback (most recent call last)",
      "\u001b[1;32m<ipython-input-3-86c13e7055c3>\u001b[0m in \u001b[0;36m<module>\u001b[1;34m\u001b[0m\n\u001b[0;32m      7\u001b[0m \u001b[0mdf\u001b[0m\u001b[1;33m.\u001b[0m\u001b[0mcolumns\u001b[0m\u001b[1;33m=\u001b[0m\u001b[1;33m[\u001b[0m\u001b[1;34m'flower_type'\u001b[0m\u001b[1;33m,\u001b[0m\u001b[1;34m'sf'\u001b[0m\u001b[1;33m,\u001b[0m\u001b[1;34m'sf'\u001b[0m\u001b[1;33m,\u001b[0m\u001b[1;34m'sf'\u001b[0m\u001b[1;33m,\u001b[0m\u001b[1;34m'flower_name'\u001b[0m\u001b[1;33m,\u001b[0m\u001b[1;34m'sf'\u001b[0m\u001b[1;33m,\u001b[0m\u001b[1;34m'sf'\u001b[0m\u001b[1;33m,\u001b[0m\u001b[1;34m'sf'\u001b[0m\u001b[1;33m,\u001b[0m\u001b[1;34m'sf'\u001b[0m\u001b[1;33m,\u001b[0m\u001b[1;34m'Flower'\u001b[0m\u001b[1;33m]\u001b[0m\u001b[1;33m\u001b[0m\u001b[1;33m\u001b[0m\u001b[0m\n\u001b[0;32m      8\u001b[0m \u001b[0ma\u001b[0m \u001b[1;33m=\u001b[0m \u001b[0mdf\u001b[0m\u001b[1;33m[\u001b[0m\u001b[0mdf\u001b[0m\u001b[1;33m[\u001b[0m\u001b[1;34m\"flower_type\"\u001b[0m\u001b[1;33m]\u001b[0m\u001b[1;33m==\u001b[0m\u001b[1;34m\"amdahl\"\u001b[0m\u001b[1;33m]\u001b[0m\u001b[1;33m\u001b[0m\u001b[1;33m\u001b[0m\u001b[0m\n\u001b[1;32m----> 9\u001b[1;33m \u001b[0ma\u001b[0m\u001b[1;33m.\u001b[0m\u001b[0mdf\u001b[0m\u001b[1;33m.\u001b[0m\u001b[0mmean\u001b[0m\u001b[1;33m(\u001b[0m\u001b[1;33m)\u001b[0m\u001b[1;33m\u001b[0m\u001b[1;33m\u001b[0m\u001b[0m\n\u001b[0m",
      "\u001b[1;32mD:\\Umang\\Projects\\SkyfiLabs\\Anaconda\\lib\\site-packages\\pandas\\core\\generic.py\u001b[0m in \u001b[0;36m__getattr__\u001b[1;34m(self, name)\u001b[0m\n\u001b[0;32m   5463\u001b[0m             \u001b[1;32mif\u001b[0m \u001b[0mself\u001b[0m\u001b[1;33m.\u001b[0m\u001b[0m_info_axis\u001b[0m\u001b[1;33m.\u001b[0m\u001b[0m_can_hold_identifiers_and_holds_name\u001b[0m\u001b[1;33m(\u001b[0m\u001b[0mname\u001b[0m\u001b[1;33m)\u001b[0m\u001b[1;33m:\u001b[0m\u001b[1;33m\u001b[0m\u001b[1;33m\u001b[0m\u001b[0m\n\u001b[0;32m   5464\u001b[0m                 \u001b[1;32mreturn\u001b[0m \u001b[0mself\u001b[0m\u001b[1;33m[\u001b[0m\u001b[0mname\u001b[0m\u001b[1;33m]\u001b[0m\u001b[1;33m\u001b[0m\u001b[1;33m\u001b[0m\u001b[0m\n\u001b[1;32m-> 5465\u001b[1;33m             \u001b[1;32mreturn\u001b[0m \u001b[0mobject\u001b[0m\u001b[1;33m.\u001b[0m\u001b[0m__getattribute__\u001b[0m\u001b[1;33m(\u001b[0m\u001b[0mself\u001b[0m\u001b[1;33m,\u001b[0m \u001b[0mname\u001b[0m\u001b[1;33m)\u001b[0m\u001b[1;33m\u001b[0m\u001b[1;33m\u001b[0m\u001b[0m\n\u001b[0m\u001b[0;32m   5466\u001b[0m \u001b[1;33m\u001b[0m\u001b[0m\n\u001b[0;32m   5467\u001b[0m     \u001b[1;32mdef\u001b[0m \u001b[0m__setattr__\u001b[0m\u001b[1;33m(\u001b[0m\u001b[0mself\u001b[0m\u001b[1;33m,\u001b[0m \u001b[0mname\u001b[0m\u001b[1;33m:\u001b[0m \u001b[0mstr\u001b[0m\u001b[1;33m,\u001b[0m \u001b[0mvalue\u001b[0m\u001b[1;33m)\u001b[0m \u001b[1;33m->\u001b[0m \u001b[1;32mNone\u001b[0m\u001b[1;33m:\u001b[0m\u001b[1;33m\u001b[0m\u001b[1;33m\u001b[0m\u001b[0m\n",
      "\u001b[1;31mAttributeError\u001b[0m: 'DataFrame' object has no attribute 'df'"
     ]
    }
   ],
   "source": [
    "import pandas as pd\n",
    "\n",
    "path = \"https://archive.ics.uci.edu/ml/machine-learning-databases/cpu-performance/machine.data\"\n",
    "\n",
    "df = pd.read_csv(path,header=None)\n",
    "df.head()\n",
    "df.columns=['flower_type','sf','sf','sf','flower_name','sf','sf','sf','sf','Flower']\n",
    "a = df[df[\"flower_type\"]==\"amdahl\"]\n",
    "a.df.mean()"
   ]
  }
 ],
 "metadata": {
  "kernelspec": {
   "display_name": "Python 3",
   "language": "python",
   "name": "python3"
  },
  "language_info": {
   "codemirror_mode": {
    "name": "ipython",
    "version": 3
   },
   "file_extension": ".py",
   "mimetype": "text/x-python",
   "name": "python",
   "nbconvert_exporter": "python",
   "pygments_lexer": "ipython3",
   "version": "3.8.8"
  }
 },
 "nbformat": 4,
 "nbformat_minor": 5
}
