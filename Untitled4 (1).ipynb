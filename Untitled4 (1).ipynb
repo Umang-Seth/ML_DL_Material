{
 "cells": [
  {
   "cell_type": "code",
   "execution_count": 9,
   "metadata": {},
   "outputs": [],
   "source": [
    "from sklearn.preprocessing import StandardScaler\n",
    "from sklearn.model_selection import train_test_split\n",
    "from sklearn.metrics import accuracy_score\n",
    "import numpy as np\n",
    "import matplotlib.pyplot as plt\n",
    "import pandas as pd"
   ]
  },
  {
   "cell_type": "code",
   "execution_count": 10,
   "metadata": {},
   "outputs": [],
   "source": [
    "dataset = pd.read_csv('Social_Network_Ads.csv')"
   ]
  },
  {
   "cell_type": "code",
   "execution_count": 11,
   "metadata": {},
   "outputs": [],
   "source": [
    "X= dataset.iloc[:,[2,3]].values\n",
    "y = dataset.iloc[:,-1].values"
   ]
  },
  {
   "cell_type": "code",
   "execution_count": 12,
   "metadata": {},
   "outputs": [],
   "source": [
    "trainX, testX, trainY, testY = train_test_split(X,y,test_size = 0.2)"
   ]
  },
  {
   "cell_type": "code",
   "execution_count": 13,
   "metadata": {},
   "outputs": [
    {
     "name": "stdout",
     "output_type": "stream",
     "text": [
      "(320, 2)\n",
      "(80, 2)\n",
      "(320,)\n",
      "(80,)\n"
     ]
    },
    {
     "data": {
      "text/plain": [
       "array([0, 0, 0, 0, 0, 0, 0, 0, 0, 0, 1, 0, 1, 1, 1, 1, 0, 0, 1, 0, 1, 0,\n",
       "       1, 1, 0, 1, 0, 1, 0, 1, 0, 0, 1, 0, 0, 1, 0, 0, 1, 1, 0, 0, 0, 1,\n",
       "       0, 1, 1, 0, 1, 1, 0, 0, 0, 1, 1, 1, 0, 1, 0, 1, 0, 1, 0, 0, 1, 0,\n",
       "       0, 1, 0, 0, 0, 0, 0, 0, 0, 0, 0, 1, 0, 0, 0, 0, 1, 0, 0, 1, 1, 0,\n",
       "       0, 1, 0, 1, 1, 0, 1, 0, 0, 0, 1, 0, 0, 0, 0, 1, 1, 0, 1, 0, 1, 0,\n",
       "       0, 1, 0, 0, 0, 0, 1, 1, 1, 1, 0, 0, 1, 1, 0, 0, 1, 0, 0, 0, 1, 0,\n",
       "       0, 0, 1, 0, 1, 0, 0, 0, 0, 0, 0, 0, 0, 0, 0, 1, 0, 1, 0, 1, 0, 1,\n",
       "       1, 0, 1, 1, 0, 0, 0, 0, 1, 0, 0, 1, 0, 0, 0, 1, 0, 0, 1, 1, 0, 0,\n",
       "       0, 0, 1, 0, 0, 0, 0, 1, 0, 1, 0, 0, 1, 0, 0, 1, 0, 1, 1, 1, 1, 1,\n",
       "       0, 1, 0, 1, 0, 1, 1, 0, 1, 1, 0, 0, 0, 0, 1, 1, 0, 0, 1, 0, 0, 0,\n",
       "       1, 1, 1, 0, 0, 0, 1, 1, 0, 1, 0, 1, 0, 0, 0, 0, 0, 0, 0, 1, 0, 0,\n",
       "       0, 0, 0, 1, 0, 1, 0, 0, 1, 0, 1, 1, 1, 0, 1, 1, 0, 0, 0, 0, 0, 0,\n",
       "       0, 0, 0, 0, 0, 0, 0, 0, 0, 0, 1, 0, 0, 0, 0, 0, 0, 0, 1, 0, 0, 0,\n",
       "       0, 1, 0, 0, 1, 0, 0, 1, 0, 0, 0, 0, 0, 0, 0, 1, 0, 0, 0, 0, 1, 0,\n",
       "       0, 1, 0, 0, 0, 1, 0, 0, 0, 0, 1, 0], dtype=int64)"
      ]
     },
     "execution_count": 13,
     "metadata": {},
     "output_type": "execute_result"
    }
   ],
   "source": [
    "print(trainX.shape)\n",
    "print(testX.shape)\n",
    "print(trainY.shape)\n",
    "print(testY.shape)\n",
    "trainY"
   ]
  },
  {
   "cell_type": "code",
   "execution_count": 6,
   "metadata": {},
   "outputs": [],
   "source": [
    "sc = StandardScaler()"
   ]
  },
  {
   "cell_type": "code",
   "execution_count": 7,
   "metadata": {},
   "outputs": [
    {
     "name": "stderr",
     "output_type": "stream",
     "text": [
      "C:\\ProgramData\\Anaconda2\\lib\\site-packages\\sklearn\\utils\\validation.py:595: DataConversionWarning: Data with input dtype int64 was converted to float64 by StandardScaler.\n",
      "  warnings.warn(msg, DataConversionWarning)\n"
     ]
    }
   ],
   "source": [
    "trainX = sc.fit_transform(trainX)"
   ]
  },
  {
   "cell_type": "code",
   "execution_count": 8,
   "metadata": {},
   "outputs": [],
   "source": [
    "testX = sc.fit_transform(testX)"
   ]
  },
  {
   "cell_type": "code",
   "execution_count": 9,
   "metadata": {},
   "outputs": [],
   "source": [
    "from sklearn.svm import SVC"
   ]
  },
  {
   "cell_type": "code",
   "execution_count": 10,
   "metadata": {},
   "outputs": [
    {
     "data": {
      "text/plain": [
       "SVC(C=1.0, cache_size=200, class_weight=None, coef0=0.0,\n",
       "  decision_function_shape='ovr', degree=3, gamma='auto_deprecated',\n",
       "  kernel='linear', max_iter=-1, probability=False, random_state=None,\n",
       "  shrinking=True, tol=0.001, verbose=False)"
      ]
     },
     "execution_count": 10,
     "metadata": {},
     "output_type": "execute_result"
    }
   ],
   "source": [
    "clf = SVC(kernel = 'linear')\n",
    "clf.fit(trainX,trainY)"
   ]
  },
  {
   "cell_type": "code",
   "execution_count": 11,
   "metadata": {},
   "outputs": [],
   "source": [
    "y_pred = clf.predict(testX)"
   ]
  },
  {
   "cell_type": "code",
   "execution_count": 12,
   "metadata": {},
   "outputs": [
    {
     "data": {
      "text/plain": [
       "array([0, 0, 1, 0, 0, 0, 1, 0, 0, 0, 0, 1, 0, 0, 1, 0, 0, 0, 1, 0, 0, 0,\n",
       "       0, 0, 0, 1, 1, 0, 0, 0, 0, 0, 0, 0, 0, 1, 0, 0, 0, 1, 0, 0, 1, 0,\n",
       "       1, 0, 1, 1, 0, 1, 1, 0, 0, 0, 1, 0, 0, 0, 0, 1, 0, 0, 0, 0, 1, 0,\n",
       "       0, 0, 0, 1, 0, 1, 1, 1, 1, 0, 1, 0, 0, 0], dtype=int64)"
      ]
     },
     "execution_count": 12,
     "metadata": {},
     "output_type": "execute_result"
    }
   ],
   "source": [
    "y_pred"
   ]
  },
  {
   "cell_type": "code",
   "execution_count": 14,
   "metadata": {},
   "outputs": [
    {
     "data": {
      "text/plain": [
       "0.8125"
      ]
     },
     "execution_count": 14,
     "metadata": {},
     "output_type": "execute_result"
    }
   ],
   "source": [
    "accuracy_score(y_pred, testY)"
   ]
  },
  {
   "cell_type": "code",
   "execution_count": 15,
   "metadata": {},
   "outputs": [],
   "source": [
    "from matplotlib.colors import ListedColormap\n"
   ]
  },
  {
   "cell_type": "code",
   "execution_count": 16,
   "metadata": {},
   "outputs": [
    {
     "data": {
      "text/plain": [
       "-2.905174983003872"
      ]
     },
     "execution_count": 16,
     "metadata": {},
     "output_type": "execute_result"
    }
   ],
   "source": [
    "set_x, set_y = trainX, trainY\n",
    "set_x[:,0].min() - 1"
   ]
  },
  {
   "cell_type": "code",
   "execution_count": 17,
   "metadata": {},
   "outputs": [
    {
     "data": {
      "text/plain": [
       "3.2094886473307"
      ]
     },
     "execution_count": 17,
     "metadata": {},
     "output_type": "execute_result"
    }
   ],
   "source": [
    "set_x[:,0].max() +1"
   ]
  },
  {
   "cell_type": "code",
   "execution_count": 18,
   "metadata": {},
   "outputs": [
    {
     "data": {
      "text/plain": [
       "array([-2.90517498, -2.89517498, -2.88517498, -2.87517498, -2.86517498,\n",
       "       -2.85517498, -2.84517498, -2.83517498, -2.82517498, -2.81517498,\n",
       "       -2.80517498, -2.79517498, -2.78517498, -2.77517498, -2.76517498,\n",
       "       -2.75517498, -2.74517498, -2.73517498, -2.72517498, -2.71517498,\n",
       "       -2.70517498, -2.69517498, -2.68517498, -2.67517498, -2.66517498,\n",
       "       -2.65517498, -2.64517498, -2.63517498, -2.62517498, -2.61517498,\n",
       "       -2.60517498, -2.59517498, -2.58517498, -2.57517498, -2.56517498,\n",
       "       -2.55517498, -2.54517498, -2.53517498, -2.52517498, -2.51517498,\n",
       "       -2.50517498, -2.49517498, -2.48517498, -2.47517498, -2.46517498,\n",
       "       -2.45517498, -2.44517498, -2.43517498, -2.42517498, -2.41517498,\n",
       "       -2.40517498, -2.39517498, -2.38517498, -2.37517498, -2.36517498,\n",
       "       -2.35517498, -2.34517498, -2.33517498, -2.32517498, -2.31517498,\n",
       "       -2.30517498, -2.29517498, -2.28517498, -2.27517498, -2.26517498,\n",
       "       -2.25517498, -2.24517498, -2.23517498, -2.22517498, -2.21517498,\n",
       "       -2.20517498, -2.19517498, -2.18517498, -2.17517498, -2.16517498,\n",
       "       -2.15517498, -2.14517498, -2.13517498, -2.12517498, -2.11517498,\n",
       "       -2.10517498, -2.09517498, -2.08517498, -2.07517498, -2.06517498,\n",
       "       -2.05517498, -2.04517498, -2.03517498, -2.02517498, -2.01517498,\n",
       "       -2.00517498, -1.99517498, -1.98517498, -1.97517498, -1.96517498,\n",
       "       -1.95517498, -1.94517498, -1.93517498, -1.92517498, -1.91517498,\n",
       "       -1.90517498, -1.89517498, -1.88517498, -1.87517498, -1.86517498,\n",
       "       -1.85517498, -1.84517498, -1.83517498, -1.82517498, -1.81517498,\n",
       "       -1.80517498, -1.79517498, -1.78517498, -1.77517498, -1.76517498,\n",
       "       -1.75517498, -1.74517498, -1.73517498, -1.72517498, -1.71517498,\n",
       "       -1.70517498, -1.69517498, -1.68517498, -1.67517498, -1.66517498,\n",
       "       -1.65517498, -1.64517498, -1.63517498, -1.62517498, -1.61517498,\n",
       "       -1.60517498, -1.59517498, -1.58517498, -1.57517498, -1.56517498,\n",
       "       -1.55517498, -1.54517498, -1.53517498, -1.52517498, -1.51517498,\n",
       "       -1.50517498, -1.49517498, -1.48517498, -1.47517498, -1.46517498,\n",
       "       -1.45517498, -1.44517498, -1.43517498, -1.42517498, -1.41517498,\n",
       "       -1.40517498, -1.39517498, -1.38517498, -1.37517498, -1.36517498,\n",
       "       -1.35517498, -1.34517498, -1.33517498, -1.32517498, -1.31517498,\n",
       "       -1.30517498, -1.29517498, -1.28517498, -1.27517498, -1.26517498,\n",
       "       -1.25517498, -1.24517498, -1.23517498, -1.22517498, -1.21517498,\n",
       "       -1.20517498, -1.19517498, -1.18517498, -1.17517498, -1.16517498,\n",
       "       -1.15517498, -1.14517498, -1.13517498, -1.12517498, -1.11517498,\n",
       "       -1.10517498, -1.09517498, -1.08517498, -1.07517498, -1.06517498,\n",
       "       -1.05517498, -1.04517498, -1.03517498, -1.02517498, -1.01517498,\n",
       "       -1.00517498, -0.99517498, -0.98517498, -0.97517498, -0.96517498,\n",
       "       -0.95517498, -0.94517498, -0.93517498, -0.92517498, -0.91517498,\n",
       "       -0.90517498, -0.89517498, -0.88517498, -0.87517498, -0.86517498,\n",
       "       -0.85517498, -0.84517498, -0.83517498, -0.82517498, -0.81517498,\n",
       "       -0.80517498, -0.79517498, -0.78517498, -0.77517498, -0.76517498,\n",
       "       -0.75517498, -0.74517498, -0.73517498, -0.72517498, -0.71517498,\n",
       "       -0.70517498, -0.69517498, -0.68517498, -0.67517498, -0.66517498,\n",
       "       -0.65517498, -0.64517498, -0.63517498, -0.62517498, -0.61517498,\n",
       "       -0.60517498, -0.59517498, -0.58517498, -0.57517498, -0.56517498,\n",
       "       -0.55517498, -0.54517498, -0.53517498, -0.52517498, -0.51517498,\n",
       "       -0.50517498, -0.49517498, -0.48517498, -0.47517498, -0.46517498,\n",
       "       -0.45517498, -0.44517498, -0.43517498, -0.42517498, -0.41517498,\n",
       "       -0.40517498, -0.39517498, -0.38517498, -0.37517498, -0.36517498,\n",
       "       -0.35517498, -0.34517498, -0.33517498, -0.32517498, -0.31517498,\n",
       "       -0.30517498, -0.29517498, -0.28517498, -0.27517498, -0.26517498,\n",
       "       -0.25517498, -0.24517498, -0.23517498, -0.22517498, -0.21517498,\n",
       "       -0.20517498, -0.19517498, -0.18517498, -0.17517498, -0.16517498,\n",
       "       -0.15517498, -0.14517498, -0.13517498, -0.12517498, -0.11517498,\n",
       "       -0.10517498, -0.09517498, -0.08517498, -0.07517498, -0.06517498,\n",
       "       -0.05517498, -0.04517498, -0.03517498, -0.02517498, -0.01517498,\n",
       "       -0.00517498,  0.00482502,  0.01482502,  0.02482502,  0.03482502,\n",
       "        0.04482502,  0.05482502,  0.06482502,  0.07482502,  0.08482502,\n",
       "        0.09482502,  0.10482502,  0.11482502,  0.12482502,  0.13482502,\n",
       "        0.14482502,  0.15482502,  0.16482502,  0.17482502,  0.18482502,\n",
       "        0.19482502,  0.20482502,  0.21482502,  0.22482502,  0.23482502,\n",
       "        0.24482502,  0.25482502,  0.26482502,  0.27482502,  0.28482502,\n",
       "        0.29482502,  0.30482502,  0.31482502,  0.32482502,  0.33482502,\n",
       "        0.34482502,  0.35482502,  0.36482502,  0.37482502,  0.38482502,\n",
       "        0.39482502,  0.40482502,  0.41482502,  0.42482502,  0.43482502,\n",
       "        0.44482502,  0.45482502,  0.46482502,  0.47482502,  0.48482502,\n",
       "        0.49482502,  0.50482502,  0.51482502,  0.52482502,  0.53482502,\n",
       "        0.54482502,  0.55482502,  0.56482502,  0.57482502,  0.58482502,\n",
       "        0.59482502,  0.60482502,  0.61482502,  0.62482502,  0.63482502,\n",
       "        0.64482502,  0.65482502,  0.66482502,  0.67482502,  0.68482502,\n",
       "        0.69482502,  0.70482502,  0.71482502,  0.72482502,  0.73482502,\n",
       "        0.74482502,  0.75482502,  0.76482502,  0.77482502,  0.78482502,\n",
       "        0.79482502,  0.80482502,  0.81482502,  0.82482502,  0.83482502,\n",
       "        0.84482502,  0.85482502,  0.86482502,  0.87482502,  0.88482502,\n",
       "        0.89482502,  0.90482502,  0.91482502,  0.92482502,  0.93482502,\n",
       "        0.94482502,  0.95482502,  0.96482502,  0.97482502,  0.98482502,\n",
       "        0.99482502,  1.00482502,  1.01482502,  1.02482502,  1.03482502,\n",
       "        1.04482502,  1.05482502,  1.06482502,  1.07482502,  1.08482502,\n",
       "        1.09482502,  1.10482502,  1.11482502,  1.12482502,  1.13482502,\n",
       "        1.14482502,  1.15482502,  1.16482502,  1.17482502,  1.18482502,\n",
       "        1.19482502,  1.20482502,  1.21482502,  1.22482502,  1.23482502,\n",
       "        1.24482502,  1.25482502,  1.26482502,  1.27482502,  1.28482502,\n",
       "        1.29482502,  1.30482502,  1.31482502,  1.32482502,  1.33482502,\n",
       "        1.34482502,  1.35482502,  1.36482502,  1.37482502,  1.38482502,\n",
       "        1.39482502,  1.40482502,  1.41482502,  1.42482502,  1.43482502,\n",
       "        1.44482502,  1.45482502,  1.46482502,  1.47482502,  1.48482502,\n",
       "        1.49482502,  1.50482502,  1.51482502,  1.52482502,  1.53482502,\n",
       "        1.54482502,  1.55482502,  1.56482502,  1.57482502,  1.58482502,\n",
       "        1.59482502,  1.60482502,  1.61482502,  1.62482502,  1.63482502,\n",
       "        1.64482502,  1.65482502,  1.66482502,  1.67482502,  1.68482502,\n",
       "        1.69482502,  1.70482502,  1.71482502,  1.72482502,  1.73482502,\n",
       "        1.74482502,  1.75482502,  1.76482502,  1.77482502,  1.78482502,\n",
       "        1.79482502,  1.80482502,  1.81482502,  1.82482502,  1.83482502,\n",
       "        1.84482502,  1.85482502,  1.86482502,  1.87482502,  1.88482502,\n",
       "        1.89482502,  1.90482502,  1.91482502,  1.92482502,  1.93482502,\n",
       "        1.94482502,  1.95482502,  1.96482502,  1.97482502,  1.98482502,\n",
       "        1.99482502,  2.00482502,  2.01482502,  2.02482502,  2.03482502,\n",
       "        2.04482502,  2.05482502,  2.06482502,  2.07482502,  2.08482502,\n",
       "        2.09482502,  2.10482502,  2.11482502,  2.12482502,  2.13482502,\n",
       "        2.14482502,  2.15482502,  2.16482502,  2.17482502,  2.18482502,\n",
       "        2.19482502,  2.20482502,  2.21482502,  2.22482502,  2.23482502,\n",
       "        2.24482502,  2.25482502,  2.26482502,  2.27482502,  2.28482502,\n",
       "        2.29482502,  2.30482502,  2.31482502,  2.32482502,  2.33482502,\n",
       "        2.34482502,  2.35482502,  2.36482502,  2.37482502,  2.38482502,\n",
       "        2.39482502,  2.40482502,  2.41482502,  2.42482502,  2.43482502,\n",
       "        2.44482502,  2.45482502,  2.46482502,  2.47482502,  2.48482502,\n",
       "        2.49482502,  2.50482502,  2.51482502,  2.52482502,  2.53482502,\n",
       "        2.54482502,  2.55482502,  2.56482502,  2.57482502,  2.58482502,\n",
       "        2.59482502,  2.60482502,  2.61482502,  2.62482502,  2.63482502,\n",
       "        2.64482502,  2.65482502,  2.66482502,  2.67482502,  2.68482502,\n",
       "        2.69482502,  2.70482502,  2.71482502,  2.72482502,  2.73482502,\n",
       "        2.74482502,  2.75482502,  2.76482502,  2.77482502,  2.78482502,\n",
       "        2.79482502,  2.80482502,  2.81482502,  2.82482502,  2.83482502,\n",
       "        2.84482502,  2.85482502,  2.86482502,  2.87482502,  2.88482502,\n",
       "        2.89482502,  2.90482502,  2.91482502,  2.92482502,  2.93482502,\n",
       "        2.94482502,  2.95482502,  2.96482502,  2.97482502,  2.98482502,\n",
       "        2.99482502,  3.00482502,  3.01482502,  3.02482502,  3.03482502,\n",
       "        3.04482502,  3.05482502,  3.06482502,  3.07482502,  3.08482502,\n",
       "        3.09482502,  3.10482502,  3.11482502,  3.12482502,  3.13482502,\n",
       "        3.14482502,  3.15482502,  3.16482502,  3.17482502,  3.18482502,\n",
       "        3.19482502,  3.20482502])"
      ]
     },
     "execution_count": 18,
     "metadata": {},
     "output_type": "execute_result"
    }
   ],
   "source": [
    "np.arange(set_x[:,0].min() - 1, set_x[:,0].max() +1, step = 0.01)"
   ]
  },
  {
   "cell_type": "code",
   "execution_count": 21,
   "metadata": {},
   "outputs": [],
   "source": [
    "xx, yy = np.meshgrid(np.arange(set_x[:,0].min() - 1, set_x[:,0].max() + 1, step=0.01),\n",
    "                    np.arange(set_x[:,1].min() - 1, set_x[:,1].max() + 1, step=0.01))\n",
    "\n",
    "z = clf.predict(np.array([xx.ravel(), yy.ravel()]).T).reshape(xx.shape)"
   ]
  },
  {
   "cell_type": "code",
   "execution_count": 22,
   "metadata": {},
   "outputs": [
    {
     "data": {
      "text/plain": [
       "array([[0, 0, 0, ..., 1, 1, 1],\n",
       "       [0, 0, 0, ..., 1, 1, 1],\n",
       "       [0, 0, 0, ..., 1, 1, 1],\n",
       "       ...,\n",
       "       [0, 0, 0, ..., 1, 1, 1],\n",
       "       [0, 0, 0, ..., 1, 1, 1],\n",
       "       [0, 0, 0, ..., 1, 1, 1]], dtype=int64)"
      ]
     },
     "execution_count": 22,
     "metadata": {},
     "output_type": "execute_result"
    }
   ],
   "source": [
    "z"
   ]
  },
  {
   "cell_type": "code",
   "execution_count": 23,
   "metadata": {},
   "outputs": [
    {
     "data": {
      "image/png": "[encoded data removed]",
      "text/plain": [
       "<Figure size 432x288 with 1 Axes>"
      ]
     },
     "metadata": {
      "needs_background": "light"
     },
     "output_type": "display_data"
    }
   ],
   "source": [
    "plt.contourf(xx, yy,z, alpha=0.75, cmap = ListedColormap(('red', 'green')))\n",
    "plt.xlim(xx.min(), xx.max())\n",
    "plt.ylim(yy.min(), yy.max())\n",
    "\n",
    "plt.scatter(trainX[:,0], trainX[:,1], c =trainY)\n",
    "plt.show()"
   ]
  },
  {
   "cell_type": "code",
   "execution_count": null,
   "metadata": {},
   "outputs": [],
   "source": []
  }
 ],
 "metadata": {
  "kernelspec": {
   "display_name": "Python 3",
   "language": "python",
   "name": "python3"
  },
  "language_info": {
   "codemirror_mode": {
    "name": "ipython",
    "version": 3
   },
   "file_extension": ".py",
   "mimetype": "text/x-python",
   "name": "python",
   "nbconvert_exporter": "python",
   "pygments_lexer": "ipython3",
   "version": "3.8.8"
  }
 },
 "nbformat": 4,
 "nbformat_minor": 2
}
