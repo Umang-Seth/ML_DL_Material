{
 "cells": [
  {
   "cell_type": "code",
   "execution_count": 1,
   "metadata": {},
   "outputs": [],
   "source": [
    "from keras.models import Sequential\n",
    "from keras.layers import Dense"
   ]
  },
  {
   "cell_type": "code",
   "execution_count": 2,
   "metadata": {},
   "outputs": [],
   "source": [
    "# Creating a Model\n",
    "model = Sequential()"
   ]
  },
  {
   "cell_type": "code",
   "execution_count": 3,
   "metadata": {},
   "outputs": [],
   "source": [
    "layer1 = Dense(units=32, activation = 'relu', input_dim = 30)\n",
    "model.add(layer1)\n",
    "model.add(Dense(units=16, activation = 'relu'))\n",
    "model.add(Dense(units=1, activation = 'sigmoid'))"
   ]
  },
  {
   "cell_type": "code",
   "execution_count": 4,
   "metadata": {},
   "outputs": [],
   "source": [
    "model.compile(optimizer='adam', loss='binary_crossentropy', metrics=['accuracy'])"
   ]
  },
  {
   "cell_type": "code",
   "execution_count": 5,
   "metadata": {},
   "outputs": [],
   "source": [
    "from sklearn import datasets\n",
    "cancer = datasets.load_breast_cancer()\n",
    "from sklearn.model_selection import train_test_split\n",
    "\n",
    "x_train, x_test, y_train, y_test = train_test_split(cancer.data, cancer.target, test_size = 0.2, random_state = 0)\n",
    "\n",
    "from sklearn.preprocessing import StandardScaler\n",
    "\n",
    "sc = StandardScaler()\n",
    "x_train = sc.fit_transform(x_train)\n",
    "x_test = sc.transform(x_test)"
   ]
  },
  {
   "cell_type": "code",
   "execution_count": 6,
   "metadata": {},
   "outputs": [
    {
     "name": "stdout",
     "output_type": "stream",
     "text": [
      "Epoch 1/20\n",
      "10/10 [==============================] - 0s 11ms/step - loss: 0.5918 - accuracy: 0.7451 - val_loss: 0.5009 - val_accuracy: 0.8509\n",
      "Epoch 2/20\n",
      "10/10 [==============================] - 0s 1ms/step - loss: 0.4506 - accuracy: 0.9033 - val_loss: 0.3909 - val_accuracy: 0.9123\n",
      "Epoch 3/20\n",
      "10/10 [==============================] - 0s 2ms/step - loss: 0.3508 - accuracy: 0.9495 - val_loss: 0.3110 - val_accuracy: 0.9211\n",
      "Epoch 4/20\n",
      "10/10 [==============================] - 0s 1ms/step - loss: 0.2790 - accuracy: 0.9538 - val_loss: 0.2564 - val_accuracy: 0.9211\n",
      "Epoch 5/20\n",
      "10/10 [==============================] - 0s 1ms/step - loss: 0.2261 - accuracy: 0.9604 - val_loss: 0.2176 - val_accuracy: 0.9211\n",
      "Epoch 6/20\n",
      "10/10 [==============================] - 0s 2ms/step - loss: 0.1880 - accuracy: 0.9604 - val_loss: 0.1902 - val_accuracy: 0.9298\n",
      "Epoch 7/20\n",
      "10/10 [==============================] - 0s 1ms/step - loss: 0.1611 - accuracy: 0.9648 - val_loss: 0.1711 - val_accuracy: 0.9386\n",
      "Epoch 8/20\n",
      "10/10 [==============================] - 0s 2ms/step - loss: 0.1414 - accuracy: 0.9670 - val_loss: 0.1581 - val_accuracy: 0.9386\n",
      "Epoch 9/20\n",
      "10/10 [==============================] - 0s 1ms/step - loss: 0.1278 - accuracy: 0.9692 - val_loss: 0.1473 - val_accuracy: 0.9474\n",
      "Epoch 10/20\n",
      "10/10 [==============================] - 0s 1ms/step - loss: 0.1162 - accuracy: 0.9714 - val_loss: 0.1409 - val_accuracy: 0.9474\n",
      "Epoch 11/20\n",
      "10/10 [==============================] - 0s 2ms/step - loss: 0.1080 - accuracy: 0.9714 - val_loss: 0.1347 - val_accuracy: 0.9474\n",
      "Epoch 12/20\n",
      "10/10 [==============================] - 0s 1ms/step - loss: 0.1008 - accuracy: 0.9758 - val_loss: 0.1297 - val_accuracy: 0.9474\n",
      "Epoch 13/20\n",
      "10/10 [==============================] - 0s 2ms/step - loss: 0.0954 - accuracy: 0.9758 - val_loss: 0.1250 - val_accuracy: 0.9561\n",
      "Epoch 14/20\n",
      "10/10 [==============================] - 0s 2ms/step - loss: 0.0909 - accuracy: 0.9758 - val_loss: 0.1208 - val_accuracy: 0.9649\n",
      "Epoch 15/20\n",
      "10/10 [==============================] - 0s 2ms/step - loss: 0.0865 - accuracy: 0.9780 - val_loss: 0.1170 - val_accuracy: 0.9649\n",
      "Epoch 16/20\n",
      "10/10 [==============================] - 0s 2ms/step - loss: 0.0822 - accuracy: 0.9780 - val_loss: 0.1143 - val_accuracy: 0.9649\n",
      "Epoch 17/20\n",
      "10/10 [==============================] - 0s 2ms/step - loss: 0.0789 - accuracy: 0.9780 - val_loss: 0.1116 - val_accuracy: 0.9561\n",
      "Epoch 18/20\n",
      "10/10 [==============================] - 0s 1ms/step - loss: 0.0756 - accuracy: 0.9802 - val_loss: 0.1095 - val_accuracy: 0.9561\n",
      "Epoch 19/20\n",
      "10/10 [==============================] - 0s 1ms/step - loss: 0.0730 - accuracy: 0.9802 - val_loss: 0.1074 - val_accuracy: 0.9561\n",
      "Epoch 20/20\n",
      "10/10 [==============================] - 0s 2ms/step - loss: 0.0707 - accuracy: 0.9824 - val_loss: 0.1060 - val_accuracy: 0.9561\n"
     ]
    },
    {
     "data": {
      "text/plain": [
       "<tensorflow.python.keras.callbacks.History at 0x207a71779a0>"
      ]
     },
     "execution_count": 6,
     "metadata": {},
     "output_type": "execute_result"
    }
   ],
   "source": [
    "model.fit(x_train, y_train, epochs=20, batch_size = 50, validation_data=(x_test, y_test))"
   ]
  },
  {
   "cell_type": "code",
   "execution_count": 7,
   "metadata": {},
   "outputs": [
    {
     "name": "stdout",
     "output_type": "stream",
     "text": [
      "4/4 [==============================] - 0s 500us/step - loss: 0.1060 - accuracy: 0.9561\n"
     ]
    },
    {
     "data": {
      "text/plain": [
       "[0.10596535354852676, 0.9561403393745422]"
      ]
     },
     "execution_count": 7,
     "metadata": {},
     "output_type": "execute_result"
    }
   ],
   "source": [
    "predictions = model.predict(x_test)\n",
    "score = model.evaluate(x_test, y_test)\n",
    "score"
   ]
  }
 ],
 "metadata": {
  "kernelspec": {
   "display_name": "Python 3",
   "language": "python",
   "name": "python3"
  },
  "language_info": {
   "codemirror_mode": {
    "name": "ipython",
    "version": 3
   },
   "file_extension": ".py",
   "mimetype": "text/x-python",
   "name": "python",
   "nbconvert_exporter": "python",
   "pygments_lexer": "ipython3",
   "version": "3.8.8"
  }
 },
 "nbformat": 4,
 "nbformat_minor": 2
}
