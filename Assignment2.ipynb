{
 "cells": [
  {
   "cell_type": "markdown",
   "id": "f114afe6",
   "metadata": {},
   "source": [
    "### Q1. Make Function for Mean, Median, Mode, Mean Square, Standard Deviation, Variance."
   ]
  },
  {
   "cell_type": "code",
   "execution_count": 28,
   "id": "924cd990",
   "metadata": {},
   "outputs": [
    {
     "name": "stdout",
     "output_type": "stream",
     "text": [
      "4.5\n"
     ]
    }
   ],
   "source": [
    "x = [0,1,2,3,4,5,6,7,8,9]\n",
    "\n",
    "def mean(y):\n",
    "    s=0\n",
    "    for i in range(len(y)):\n",
    "        s=s+y[i]\n",
    "        y_mean=s/len(y)\n",
    "    return y_mean\n",
    "\n",
    "print(mean(x))"
   ]
  },
  {
   "cell_type": "code",
   "execution_count": 30,
   "id": "4db0da39",
   "metadata": {},
   "outputs": [
    {
     "name": "stdout",
     "output_type": "stream",
     "text": [
      "4\n"
     ]
    }
   ],
   "source": [
    "x = [0,1,2,3,4,5,6,7,8]\n",
    "\n",
    "def median(y):\n",
    "    data = sorted(y)\n",
    "    index = len(data) // 2\n",
    " \n",
    "    if len(y) % 2!= 0:\n",
    "        return data[index]\n",
    "\n",
    "    return (data[index - 1] + data[index]) / 2\n",
    "\n",
    "print(median(x))"
   ]
  },
  {
   "cell_type": "code",
   "execution_count": 31,
   "id": "8c567f80",
   "metadata": {},
   "outputs": [
    {
     "name": "stdout",
     "output_type": "stream",
     "text": [
      "[9]\n"
     ]
    }
   ],
   "source": [
    "x = [0,1,2,3,4,5,6,7,9,9]\n",
    "\n",
    "def mode(y):\n",
    "    frequency = {}\n",
    "    for value in y:\n",
    "        frequency[value] = frequency.get(value, 0) + 1\n",
    "    most_frequent = max(frequency.values())\n",
    "    modes = [key for key, value in frequency.items()if value == most_frequent]\n",
    "    return modes\n",
    "\n",
    "print(mode(x))"
   ]
  },
  {
   "cell_type": "code",
   "execution_count": 35,
   "id": "e622c450",
   "metadata": {},
   "outputs": [
    {
     "name": "stdout",
     "output_type": "stream",
     "text": [
      "5.338539126015656\n"
     ]
    }
   ],
   "source": [
    "x = [0,1,2,3,4,5,6,7,8,9]\n",
    "\n",
    "def root_mean_sqrt(y):\n",
    "    sq=[]\n",
    "    for i in range(len(y)):\n",
    "        sq.append((y[i]**2))\n",
    "    mean = sum(sq)/len(sq)\n",
    "    return mean**(1/2)\n",
    "\n",
    "print(root_mean_sqrt(x))  "
   ]
  },
  {
   "cell_type": "code",
   "execution_count": 36,
   "id": "393e425c",
   "metadata": {},
   "outputs": [
    {
     "name": "stdout",
     "output_type": "stream",
     "text": [
      "159.4\n"
     ]
    }
   ],
   "source": [
    "x = [0,1,26,3,4,5,16,37,19,29]\n",
    "\n",
    "def variance(data): \n",
    "    n = len(data) \n",
    "    mean = sum(data) / n \n",
    "    deviations = [(x - mean) ** 2 for x in data] \n",
    "    variance = sum(deviations) / n\n",
    "    return variance\n",
    "\n",
    "print(variance(x))"
   ]
  },
  {
   "cell_type": "code",
   "execution_count": 37,
   "id": "a08afeff",
   "metadata": {},
   "outputs": [
    {
     "name": "stdout",
     "output_type": "stream",
     "text": [
      "12.625371281669304\n"
     ]
    }
   ],
   "source": [
    "import math\n",
    "\n",
    "x = [0,1,26,3,4,5,16,37,19,29]\n",
    "\n",
    "def standard_devition(y):\n",
    "    var = variance(y)\n",
    "    std_dev = (var)**0.5\n",
    "    return std_dev\n",
    "\n",
    "print(standard_devition(x))"
   ]
  },
  {
   "cell_type": "markdown",
   "id": "4462d417",
   "metadata": {},
   "source": [
    "### Q2. Apply Linear Regression on data set imported from scikit Learn."
   ]
  },
  {
   "cell_type": "code",
   "execution_count": 82,
   "id": "6853c26a",
   "metadata": {},
   "outputs": [],
   "source": [
    "import pandas as pd\n",
    "import sklearn.datasets as data\n",
    "from sklearn.model_selection import train_test_split\n",
    "from sklearn.linear_model import LinearRegression\n",
    "import numpy as np\n",
    "\n",
    "boston = data.load_boston()"
   ]
  },
  {
   "cell_type": "code",
   "execution_count": 50,
   "id": "b2382f9f",
   "metadata": {},
   "outputs": [
    {
     "data": {
      "text/plain": [
       "array(['CRIM', 'ZN', 'INDUS', 'CHAS', 'NOX', 'RM', 'AGE', 'DIS', 'RAD',\n",
       "       'TAX', 'PTRATIO', 'B', 'LSTAT'], dtype='<U7')"
      ]
     },
     "execution_count": 50,
     "metadata": {},
     "output_type": "execute_result"
    }
   ],
   "source": [
    "boston.feature_names"
   ]
  },
  {
   "cell_type": "code",
   "execution_count": 75,
   "id": "a8a1cb3b",
   "metadata": {},
   "outputs": [
    {
     "data": {
      "text/plain": [
       "array([[6.3200e-03, 1.8000e+01, 2.3100e+00, ..., 1.5300e+01, 3.9690e+02,\n",
       "        4.9800e+00],\n",
       "       [2.7310e-02, 0.0000e+00, 7.0700e+00, ..., 1.7800e+01, 3.9690e+02,\n",
       "        9.1400e+00],\n",
       "       [2.7290e-02, 0.0000e+00, 7.0700e+00, ..., 1.7800e+01, 3.9283e+02,\n",
       "        4.0300e+00],\n",
       "       ...,\n",
       "       [6.0760e-02, 0.0000e+00, 1.1930e+01, ..., 2.1000e+01, 3.9690e+02,\n",
       "        5.6400e+00],\n",
       "       [1.0959e-01, 0.0000e+00, 1.1930e+01, ..., 2.1000e+01, 3.9345e+02,\n",
       "        6.4800e+00],\n",
       "       [4.7410e-02, 0.0000e+00, 1.1930e+01, ..., 2.1000e+01, 3.9690e+02,\n",
       "        7.8800e+00]])"
      ]
     },
     "execution_count": 75,
     "metadata": {},
     "output_type": "execute_result"
    }
   ],
   "source": [
    "boston.data"
   ]
  },
  {
   "cell_type": "code",
   "execution_count": 70,
   "id": "42e7372d",
   "metadata": {},
   "outputs": [
    {
     "name": "stdout",
     "output_type": "stream",
     "text": [
      "(379, 13)\n",
      "(127, 13)\n",
      "(127,)\n",
      "(506, 13)\n",
      "(506,)\n"
     ]
    }
   ],
   "source": [
    "x = boston.data\n",
    "y = boston.target\n",
    "xtrain, xtest, ytrain, ytest = train_test_split(x,y)\n",
    "print(xtrain.shape)\n",
    "print(xtest.shape)\n",
    "print(ytest.shape)\n",
    "print(x.shape)\n",
    "print(y.shape)"
   ]
  },
  {
   "cell_type": "code",
   "execution_count": 55,
   "id": "0e4384f9",
   "metadata": {},
   "outputs": [
    {
     "data": {
      "text/plain": [
       "LinearRegression()"
      ]
     },
     "execution_count": 55,
     "metadata": {},
     "output_type": "execute_result"
    }
   ],
   "source": [
    "model = LinearRegression()\n",
    "model.fit(xtrain,ytrain)"
   ]
  },
  {
   "cell_type": "code",
   "execution_count": 58,
   "id": "210eea05",
   "metadata": {},
   "outputs": [
    {
     "data": {
      "text/plain": [
       "0.7151543860342805"
      ]
     },
     "execution_count": 58,
     "metadata": {},
     "output_type": "execute_result"
    }
   ],
   "source": [
    "model.score(xtest,ytest)"
   ]
  },
  {
   "cell_type": "code",
   "execution_count": null,
   "id": "44bb4f5d",
   "metadata": {},
   "outputs": [],
   "source": []
  },
  {
   "cell_type": "markdown",
   "id": "c59c3b40",
   "metadata": {},
   "source": [
    "### Q3. Input two features and print predicted y numeric value"
   ]
  },
  {
   "cell_type": "code",
   "execution_count": 81,
   "id": "bab1fa95",
   "metadata": {},
   "outputs": [
    {
     "name": "stdout",
     "output_type": "stream",
     "text": [
      "[[6.32, 1.8, 2.31, 1, 1, 1, 1, 1, 1, 1, 1.53, 3.969, 4.98]] [17.92617115]\n"
     ]
    }
   ],
   "source": [
    "new_input = [[6.32, 1.8, 2.31, 1, 1, 1, 1, 1, 1, 1, 1.53, 3.969, 4.98]]\n",
    "output = model.predict(new_input)\n",
    "print(new_input, output)"
   ]
  },
  {
   "cell_type": "markdown",
   "id": "c4d5b77e",
   "metadata": {},
   "source": [
    "### Q4. Gaussian, Bernoulli, Multinomial on iris dataset by using Naive Bayes"
   ]
  },
  {
   "cell_type": "code",
   "execution_count": 272,
   "id": "53d0b18c",
   "metadata": {
    "scrolled": false
   },
   "outputs": [],
   "source": [
    "import pandas as pd\n",
    "import sklearn.datasets as data\n",
    "from sklearn.model_selection import train_test_split\n",
    "from sklearn.linear_model import LinearRegression\n",
    "import numpy as np\n",
    "from sklearn.naive_bayes import GaussianNB\n",
    "from sklearn.naive_bayes import MultinomialNB\n",
    "from sklearn.naive_bayes import BernoulliNB\n",
    "\n",
    "iris = data.load_iris()\n",
    "x = iris.data\n",
    "y = iris.target\n",
    "xtrain, xtest, ytrain, ytest = train_test_split(x,y)\n",
    "y_test = np.reshape(ytest, (-1, 1))"
   ]
  },
  {
   "cell_type": "code",
   "execution_count": 273,
   "id": "b0516f52",
   "metadata": {},
   "outputs": [
    {
     "data": {
      "text/plain": [
       "GaussianNB()"
      ]
     },
     "execution_count": 273,
     "metadata": {},
     "output_type": "execute_result"
    }
   ],
   "source": [
    "gnb = GaussianNB()\n",
    "gnb.fit(xtrain, ytrain)"
   ]
  },
  {
   "cell_type": "code",
   "execution_count": 274,
   "id": "e04a3b8c",
   "metadata": {
    "scrolled": true
   },
   "outputs": [
    {
     "data": {
      "text/plain": [
       "array([1, 2, 1, 1, 2, 2, 1, 0, 1, 2, 0, 0, 0, 1, 1, 0, 0, 1, 0, 1, 0, 1,\n",
       "       1, 2, 2, 0, 0, 0, 1, 2, 2, 0, 1, 0, 1, 0, 1, 2])"
      ]
     },
     "execution_count": 274,
     "metadata": {},
     "output_type": "execute_result"
    }
   ],
   "source": [
    "y_pred = gnb.predict(xtest)\n",
    "y_pred"
   ]
  },
  {
   "cell_type": "code",
   "execution_count": 275,
   "id": "86e23031",
   "metadata": {},
   "outputs": [
    {
     "data": {
      "text/plain": [
       "0.9736842105263158"
      ]
     },
     "execution_count": 275,
     "metadata": {},
     "output_type": "execute_result"
    }
   ],
   "source": [
    "accuracy_score(y_pred, ytest)"
   ]
  },
  {
   "cell_type": "code",
   "execution_count": 276,
   "id": "f711b3eb",
   "metadata": {},
   "outputs": [
    {
     "data": {
      "text/plain": [
       "BernoulliNB()"
      ]
     },
     "execution_count": 276,
     "metadata": {},
     "output_type": "execute_result"
    }
   ],
   "source": [
    "bnb = BernoulliNB()\n",
    "bnb.fit(xtrain, ytrain)"
   ]
  },
  {
   "cell_type": "code",
   "execution_count": 277,
   "id": "ad23738f",
   "metadata": {},
   "outputs": [
    {
     "data": {
      "text/plain": [
       "array([2, 2, 2, 2, 2, 2, 2, 2, 2, 2, 2, 2, 2, 2, 2, 2, 2, 2, 2, 2, 2, 2,\n",
       "       2, 2, 2, 2, 2, 2, 2, 2, 2, 2, 2, 2, 2, 2, 2, 2])"
      ]
     },
     "execution_count": 277,
     "metadata": {},
     "output_type": "execute_result"
    }
   ],
   "source": [
    "y_pred = bnb.predict(xtest)\n",
    "y_pred"
   ]
  },
  {
   "cell_type": "code",
   "execution_count": 278,
   "id": "6ed33605",
   "metadata": {},
   "outputs": [
    {
     "data": {
      "text/plain": [
       "0.2631578947368421"
      ]
     },
     "execution_count": 278,
     "metadata": {},
     "output_type": "execute_result"
    }
   ],
   "source": [
    "accuracy_score(y_pred, ytest)"
   ]
  },
  {
   "cell_type": "code",
   "execution_count": 279,
   "id": "c48e7790",
   "metadata": {},
   "outputs": [
    {
     "data": {
      "text/plain": [
       "MultinomialNB()"
      ]
     },
     "execution_count": 279,
     "metadata": {},
     "output_type": "execute_result"
    }
   ],
   "source": [
    "mnb = MultinomialNB()\n",
    "mnb.fit(xtrain, ytrain)"
   ]
  },
  {
   "cell_type": "code",
   "execution_count": 280,
   "id": "d0ca6614",
   "metadata": {},
   "outputs": [
    {
     "data": {
      "text/plain": [
       "array([2, 2, 2, 1, 2, 2, 2, 0, 1, 2, 0, 0, 0, 1, 2, 0, 0, 2, 0, 2, 0, 1,\n",
       "       1, 2, 2, 0, 0, 0, 2, 2, 2, 0, 2, 0, 1, 0, 1, 2])"
      ]
     },
     "execution_count": 280,
     "metadata": {},
     "output_type": "execute_result"
    }
   ],
   "source": [
    "y_pred = mnb.predict(xtest)\n",
    "y_pred"
   ]
  },
  {
   "cell_type": "code",
   "execution_count": 281,
   "id": "bffee632",
   "metadata": {},
   "outputs": [
    {
     "data": {
      "text/plain": [
       "0.8157894736842105"
      ]
     },
     "execution_count": 281,
     "metadata": {},
     "output_type": "execute_result"
    }
   ],
   "source": [
    "accuracy_score(y_pred, ytest)"
   ]
  },
  {
   "cell_type": "markdown",
   "id": "08cecf81",
   "metadata": {},
   "source": [
    "### Q5. Implement SVM"
   ]
  },
  {
   "cell_type": "code",
   "execution_count": 283,
   "id": "1ed05eaa",
   "metadata": {},
   "outputs": [],
   "source": [
    "from sklearn.preprocessing import StandardScaler\n",
    "from sklearn.model_selection import train_test_split\n",
    "from sklearn.metrics import accuracy_score\n",
    "import numpy as np\n",
    "import matplotlib.pyplot as plt\n",
    "import pandas as pd"
   ]
  },
  {
   "cell_type": "code",
   "execution_count": 284,
   "id": "b286173e",
   "metadata": {},
   "outputs": [
    {
     "name": "stdout",
     "output_type": "stream",
     "text": [
      "(112, 4)\n",
      "(38, 4)\n"
     ]
    }
   ],
   "source": [
    "iris = data.load_iris()\n",
    "x = iris.data\n",
    "y = iris.target\n",
    "x_train, x_test, y_train, y_test = train_test_split(x,y)\n",
    "print(x_train.shape)\n",
    "print(x_test.shape)"
   ]
  },
  {
   "cell_type": "code",
   "execution_count": 285,
   "id": "386c0967",
   "metadata": {},
   "outputs": [],
   "source": [
    "sc = StandardScaler()\n",
    "x_train = sc.fit_transform(x_train)\n",
    "x_test = sc.fit_transform(x_test)"
   ]
  },
  {
   "cell_type": "code",
   "execution_count": 286,
   "id": "8ce7d49d",
   "metadata": {},
   "outputs": [
    {
     "data": {
      "text/plain": [
       "SVC(kernel='linear')"
      ]
     },
     "execution_count": 286,
     "metadata": {},
     "output_type": "execute_result"
    }
   ],
   "source": [
    "from sklearn.svm import SVC\n",
    "\n",
    "clf = SVC(kernel = 'linear')\n",
    "clf.fit(x_train,y_train)"
   ]
  },
  {
   "cell_type": "code",
   "execution_count": 287,
   "id": "b7dde69b",
   "metadata": {},
   "outputs": [
    {
     "data": {
      "text/plain": [
       "array([1, 2, 1, 1, 1, 1, 0, 2, 0, 1, 2, 1, 2, 1, 1, 2, 0, 0, 2, 0, 0, 2,\n",
       "       1, 1, 1, 2, 0, 0, 2, 0, 2, 1, 0, 2, 0, 2, 2, 1])"
      ]
     },
     "execution_count": 287,
     "metadata": {},
     "output_type": "execute_result"
    }
   ],
   "source": [
    "y_pred = clf.predict(x_test)\n",
    "y_pred"
   ]
  },
  {
   "cell_type": "code",
   "execution_count": 288,
   "id": "ef9f1284",
   "metadata": {},
   "outputs": [
    {
     "data": {
      "text/plain": [
       "0.9210526315789473"
      ]
     },
     "execution_count": 288,
     "metadata": {},
     "output_type": "execute_result"
    }
   ],
   "source": [
    "accuracy_score(y_pred, y_test)"
   ]
  },
  {
   "cell_type": "code",
   "execution_count": null,
   "id": "a96aa089",
   "metadata": {},
   "outputs": [],
   "source": []
  }
 ],
 "metadata": {
  "kernelspec": {
   "display_name": "Python 3",
   "language": "python",
   "name": "python3"
  },
  "language_info": {
   "codemirror_mode": {
    "name": "ipython",
    "version": 3
   },
   "file_extension": ".py",
   "mimetype": "text/x-python",
   "name": "python",
   "nbconvert_exporter": "python",
   "pygments_lexer": "ipython3",
   "version": "3.8.8"
  }
 },
 "nbformat": 4,
 "nbformat_minor": 5
}
